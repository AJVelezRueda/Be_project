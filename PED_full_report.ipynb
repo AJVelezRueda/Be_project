{
 "cells": [
  {
   "cell_type": "markdown",
   "metadata": {},
   "source": [
    "REPORT FILE has the information about:\n",
    "\n",
    "1) PED id\n",
    "\n",
    "2) plot thr diff in sequences : sequences names (folder: ~/Be_project/Data/fastasequences)\n",
    "\n",
    "3) Rg and Dmas plots: \"_rgdist-ens_1-Rgdist.jpg\" files (folder: ) JUST PLOTS\n",
    "\n",
    "4) End to end distances\n",
    "\n",
    "5) Secondary structure prediction (folder: )\n",
    "\n",
    "6) Stero chemestry info"
   ]
  },
  {
   "cell_type": "code",
   "execution_count": 47,
   "metadata": {
    "collapsed": true
   },
   "outputs": [],
   "source": [
    "###########################\n",
    "##- Importing libraries -##\n",
    "###########################\n",
    "import os,glob\n",
    "import pandas as pd"
   ]
  },
  {
   "cell_type": "code",
   "execution_count": 64,
   "metadata": {
    "collapsed": false
   },
   "outputs": [
    {
     "name": "stdout",
     "output_type": "stream",
     "text": [
      "[]\n",
      "[]\n",
      "['/home/anajulia/Be_project/Data/fastasequences/pairwise_alig_plot/PED3AAA01-PED3AAA03_aln_pair.plot', '/home/anajulia/Be_project/Data/fastasequences/pairwise_alig_plot/PED3AAA02-PED3AAA01_aln_pair.plot', '/home/anajulia/Be_project/Data/fastasequences/pairwise_alig_plot/PED3AAA01-PED3AAA00_aln_pair.plot']\n",
      "['/home/anajulia/Be_project/Data/fastasequences/pairwise_alig_plot/PED3AAB01-PED3AAB00_aln_pair.plot']\n",
      "[]\n",
      "[]\n",
      "['/home/anajulia/Be_project/Data/fastasequences/pairwise_alig_plot/PED1AAA00-PED1AAA01_aln_pair.plot']\n",
      "['/home/anajulia/Be_project/Data/fastasequences/pairwise_alig_plot/PED4AAA00-PED4AAA01_aln_pair.plot', '/home/anajulia/Be_project/Data/fastasequences/pairwise_alig_plot/PED4AAA01-PED4AAA03_aln_pair.plot', '/home/anajulia/Be_project/Data/fastasequences/pairwise_alig_plot/PED4AAA01-PED4AAA02_aln_pair.plot']\n",
      "[]\n",
      "[]\n",
      "[]\n"
     ]
    }
   ],
   "source": [
    "#################################\n",
    "#- Setting path to main folder -#\n",
    "#################################\n",
    "path_main = '/home/anajulia/Be_project/Data'\n",
    "path_sequences_plots = path_main + '/fastasequences/pairwise_alig_plot'\n",
    "path_ensemb_seq = path_main + '/fastasequences/'\n",
    "path_data = path_main + '/PED-DB3'\n",
    "\n",
    "#######################\n",
    "#- Searching folders -#\n",
    "#######################\n",
    "list_data_dir = glob.glob(path_data +'/*')\n",
    "\n",
    "PEDs = []\n",
    "list_PEDs_dir = []\n",
    "for i in list_data_dir:\n",
    "    if i.split('/')[-1].startswith('PED'):\n",
    "        if 'json' not in i:\n",
    "            list_PEDs_dir.append(i)\n",
    "            PEDs.append(i.split('/')[-1])\n",
    "            \n",
    "all_plots = []\n",
    "for i in glob.glob(path_sequences_plots+'/*'):\n",
    "    all_plots.append(i.split('/')[-1])\n",
    "            \n",
    "PEDs_files = {}\n",
    "for i in PEDs:\n",
    "    path_ped_folder = path_data +'/'+i\n",
    "    path_ped_seq_ensem = path_ensemb_seq + i + '_all_sequences.txt'\n",
    "    path_plots = []\n",
    "    for j in all_plots:\n",
    "        if i in str(j):\n",
    "            path_plot = path_sequences_plots + '/' + j\n",
    "            path_plots.append(path_plot)\n",
    "    print(path_plots)"
   ]
  },
  {
   "cell_type": "code",
   "execution_count": 61,
   "metadata": {
    "collapsed": false
   },
   "outputs": [
    {
     "data": {
      "text/plain": [
       "['PED3AAB01-PED3AAB00_aln_pair.plot',\n",
       " 'PED3AAA01-PED3AAA03_aln_pair.plot',\n",
       " 'PED3AAA02-PED3AAA01_aln_pair.plot',\n",
       " 'PED4AAA00-PED4AAA01_aln_pair.plot',\n",
       " 'PED1AAA00-PED1AAA01_aln_pair.plot',\n",
       " 'PED4AAA01-PED4AAA03_aln_pair.plot',\n",
       " 'PED3AAA01-PED3AAA00_aln_pair.plot',\n",
       " 'PED4AAA01-PED4AAA02_aln_pair.plot']"
      ]
     },
     "execution_count": 61,
     "metadata": {},
     "output_type": "execute_result"
    }
   ],
   "source": [
    "#all_plots"
   ]
  },
  {
   "cell_type": "code",
   "execution_count": 49,
   "metadata": {
    "collapsed": false
   },
   "outputs": [
    {
     "data": {
      "text/plain": [
       "['/home/anajulia/Be_project/Data/PED-DB3/PED2AAD',\n",
       " '/home/anajulia/Be_project/Data/PED-DB3/PED2AAB',\n",
       " '/home/anajulia/Be_project/Data/PED-DB3/PED3AAA',\n",
       " '/home/anajulia/Be_project/Data/PED-DB3/PED3AAB',\n",
       " '/home/anajulia/Be_project/Data/PED-DB3/PED1AAB',\n",
       " '/home/anajulia/Be_project/Data/PED-DB3/PED2AAA',\n",
       " '/home/anajulia/Be_project/Data/PED-DB3/PED1AAA',\n",
       " '/home/anajulia/Be_project/Data/PED-DB3/PED4AAA',\n",
       " '/home/anajulia/Be_project/Data/PED-DB3/PED3AAD',\n",
       " '/home/anajulia/Be_project/Data/PED-DB3/PED4AAB',\n",
       " '/home/anajulia/Be_project/Data/PED-DB3/PED1AAD']"
      ]
     },
     "execution_count": 49,
     "metadata": {},
     "output_type": "execute_result"
    }
   ],
   "source": [
    "###############################################\n",
    "#- Searching for the ensemble sequences data -#\n",
    "###############################################\n",
    "for i in PEDs:\n",
    "    "
   ]
  },
  {
   "cell_type": "code",
   "execution_count": null,
   "metadata": {
    "collapsed": true
   },
   "outputs": [],
   "source": []
  }
 ],
 "metadata": {
  "kernelspec": {
   "display_name": "Python 2",
   "language": "python",
   "name": "python2"
  },
  "language_info": {
   "codemirror_mode": {
    "name": "ipython",
    "version": 2
   },
   "file_extension": ".py",
   "mimetype": "text/x-python",
   "name": "python",
   "nbconvert_exporter": "python",
   "pygments_lexer": "ipython2",
   "version": "2.7.13"
  }
 },
 "nbformat": 4,
 "nbformat_minor": 2
}
