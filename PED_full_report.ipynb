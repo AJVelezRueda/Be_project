{
 "cells": [
  {
   "cell_type": "code",
   "execution_count": null,
   "metadata": {
    "collapsed": true
   },
   "outputs": [],
   "source": [
    "############################################################################################################\n",
    "###- Important INFO: the folder must follow the structure: ~/Be_project/Data/PED-DB3/PED1AAA -#\n",
    "##- IMPORTANT: you must have a folder with called data in whith a folder with folder of each entry inside -# "
   ]
  },
  {
   "cell_type": "code",
   "execution_count": 2,
   "metadata": {
    "collapsed": true
   },
   "outputs": [],
   "source": [
    "###########################\n",
    "##- Importing libraries -##\n",
    "###########################\n",
    "import os,glob\n",
    "import pandas as pd"
   ]
  },
  {
   "cell_type": "code",
   "execution_count": 3,
   "metadata": {
    "collapsed": false
   },
   "outputs": [],
   "source": [
    "#################################\n",
    "#- Setting path to main folder -#\n",
    "#################################\n",
    "path_main = '/home/anajulia/Be_project/Data'\n",
    "path_data = path_main + '/PED-DB3'\n",
    "\n",
    "#######################\n",
    "#- Searching folders -#\n",
    "#######################\n",
    "list_data_dir = glob.glob(path_data +'/*')\n",
    "\n",
    "PEDs = []\n",
    "list_PEDs_dir = []\n",
    "for i in list_data_dir:\n",
    "    if i.split('/')[-1].startswith('PED'):\n",
    "        if 'json' not in i:\n",
    "            list_PEDs_dir.append(i)\n",
    "            PEDs.append(i.split('/')[-1])"
   ]
  },
  {
   "cell_type": "code",
   "execution_count": 25,
   "metadata": {
    "collapsed": false
   },
   "outputs": [
    {
     "name": "stdout",
     "output_type": "stream",
     "text": [
      "['/home/anajulia/Be_project/Data/PED-DB3/PED2AAD/PED2AAD_rgdist-ens_1-Rgdist.jpg']\n",
      "['/home/anajulia/Be_project/Data/PED-DB3/PED2AAB/PED2AAB_rgdist-ens_1-Rgdist.jpg']\n",
      "['/home/anajulia/Be_project/Data/PED-DB3/PED3AAA/PED3AAA_rgdist-ens_1-Rgdist.jpg']\n",
      "['/home/anajulia/Be_project/Data/PED-DB3/PED3AAB/PED3AAB_rgdist-ens_1-Rgdist.jpg']\n",
      "['/home/anajulia/Be_project/Data/PED-DB3/PED1AAB/PED1AAB_rgdist-ens_1-Rgdist.jpg']\n",
      "['/home/anajulia/Be_project/Data/PED-DB3/PED2AAA/PED2AAA_rgdist-ens_1-Rgdist.jpg']\n",
      "['/home/anajulia/Be_project/Data/PED-DB3/PED1AAA/PED1AAA_rgdist-ens_3-Rgdist.jpg', '/home/anajulia/Be_project/Data/PED-DB3/PED1AAA/PED1AAA_rgdist-ens_1-Rgdist.jpg', '/home/anajulia/Be_project/Data/PED-DB3/PED1AAA/PED1AAA_rgdist-ens_2-Rgdist.jpg']\n",
      "['/home/anajulia/Be_project/Data/PED-DB3/PED4AAA/PED4AAA_rgdist-ens_1-Rgdist.jpg']\n",
      "['/home/anajulia/Be_project/Data/PED-DB3/PED3AAD/PED3AAD_rgdist-ens_1-Rgdist.jpg']\n",
      "[]\n",
      "['/home/anajulia/Be_project/Data/PED-DB3/PED1AAD/PED1AAD_rgdist-ens_1-Rgdist.jpg']\n"
     ]
    }
   ],
   "source": [
    "for i in PEDs:\n",
    "    #building paths to folders\n",
    "    path_folder= path_data + '/' + i\n",
    "    path_seqs = path_folder + '/fastasequences/'\n",
    "    path_end_to_end = path_folder + '/End_to_End/'\n",
    "    path_second_struc = path_folder + '/Secondary_structure/'\n",
    "    #listing files\n",
    "    list_seqplots = glob.glob(path_seqs + '*')\n",
    "    list_seqplots = [x for x in list_seqplots if '.plot' in x]\n",
    "    list_endToend_plots = glob.glob(path_end_to_end + '*')\n",
    "    list_endToend_plots = [x for x in list_endToend_plots if '_plot.tiff' in x]\n",
    "    list_secondStruc_plots =  glob.glob(path_second_struc+'*')\n",
    "    list_secondStruc_plots = [x for x in list_secondStruc_plots if '_plot.tiff' in x]\n",
    "    list_gralPlots = glob.glob(path_folder + '/*.jpg')\n",
    "    print(list_gralPlots)"
   ]
  },
  {
   "cell_type": "code",
   "execution_count": null,
   "metadata": {
    "collapsed": true
   },
   "outputs": [],
   "source": []
  },
  {
   "cell_type": "code",
   "execution_count": null,
   "metadata": {
    "collapsed": true
   },
   "outputs": [],
   "source": []
  },
  {
   "cell_type": "code",
   "execution_count": null,
   "metadata": {
    "collapsed": true
   },
   "outputs": [],
   "source": []
  }
 ],
 "metadata": {
  "kernelspec": {
   "display_name": "Python 2",
   "language": "python",
   "name": "python2"
  },
  "language_info": {
   "codemirror_mode": {
    "name": "ipython",
    "version": 2
   },
   "file_extension": ".py",
   "mimetype": "text/x-python",
   "name": "python",
   "nbconvert_exporter": "python",
   "pygments_lexer": "ipython2",
   "version": "2.7.13"
  }
 },
 "nbformat": 4,
 "nbformat_minor": 2
}
