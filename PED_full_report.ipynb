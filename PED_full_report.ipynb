{
 "cells": [
  {
   "cell_type": "code",
   "execution_count": null,
   "metadata": {
    "collapsed": true
   },
   "outputs": [],
   "source": [
    "############################################################################################################\n",
    "###- Important INFO: the folder must follow the structure: ~/Be_project/Data/PED-DB3/PED1AAA -#\n",
    "##- IMPORTANT: you must have a folder with called data in whith a folder with folder of each entry inside -# "
   ]
  },
  {
   "cell_type": "markdown",
   "metadata": {},
   "source": [
    "#################################\n",
    "##- FOR Installing libraries -##\n",
    "#------ Using  Python 3 -------#\n",
    "###############################################\n",
    "#-   Libraries could be installed manually   -#\n",
    "#- In which case you don't need to run this - #\n",
    "###############################################\n",
    "\n",
    "try:\n",
    "    from pip import main as pipmain\n",
    "except:\n",
    "    from pip._internal import main as pipmain\n",
    "\n",
    "def install(package):\n",
    "    pipmain(['install', \"--upgrade\", \"pip\"])\n",
    "    if hasattr(pip, 'main'):\n",
    "        pip.main(['install', package])\n",
    "    else:\n",
    "        try:\n",
    "            pip._internal.main(['install', package])\n",
    "        except:\n",
    "            print(pip._internal.main(['install', package]))\n",
    "\n",
    "###########################\n",
    "##- Installing Biopython-##\n",
    "###########################\n",
    "install('pdfkit')"
   ]
  },
  {
   "cell_type": "code",
   "execution_count": 32,
   "metadata": {
    "collapsed": true
   },
   "outputs": [],
   "source": [
    "###########################\n",
    "##- Importing libraries -##\n",
    "###########################\n",
    "import os,glob\n",
    "import pandas as pd\n",
    "import pdfkit"
   ]
  },
  {
   "cell_type": "code",
   "execution_count": 3,
   "metadata": {
    "collapsed": false
   },
   "outputs": [],
   "source": [
    "#################################\n",
    "#- Setting path to main folder -#\n",
    "#################################\n",
    "path_main = '/home/anajulia/Be_project/Data'\n",
    "path_data = path_main + '/PED-DB3'\n",
    "\n",
    "#######################\n",
    "#- Searching folders -#\n",
    "#######################\n",
    "list_data_dir = glob.glob(path_data +'/*')\n",
    "\n",
    "PEDs = []\n",
    "list_PEDs_dir = []\n",
    "for i in list_data_dir:\n",
    "    if i.split('/')[-1].startswith('PED'):\n",
    "        if 'json' not in i:\n",
    "            list_PEDs_dir.append(i)\n",
    "            PEDs.append(i.split('/')[-1])"
   ]
  },
  {
   "cell_type": "code",
   "execution_count": 26,
   "metadata": {
    "collapsed": false
   },
   "outputs": [],
   "source": [
    "#######################\n",
    "#- Searching files   -#\n",
    "#######################\n",
    "\n",
    "PEDsdic = {}\n",
    "for i in PEDs:\n",
    "    #building paths to folders\n",
    "    path_folder= path_data + '/' + i\n",
    "    path_seqs = path_folder + '/fastasequences/'\n",
    "    path_end_to_end = path_folder + '/End_to_End/'\n",
    "    path_second_struc = path_folder + '/Secondary_structure/'\n",
    "    #listing files\n",
    "    list_seqplots = glob.glob(path_seqs + '*')\n",
    "    list_seqplots = [x for x in list_seqplots if '.plot' in x]\n",
    "    list_endToend_plots = glob.glob(path_end_to_end + '*')\n",
    "    list_endToend_plots = [x for x in list_endToend_plots if '_plot.tiff' in x]\n",
    "    list_secondStruc_plots =  glob.glob(path_second_struc+'*')\n",
    "    list_secondStruc_plots = [x for x in list_secondStruc_plots if '_plot.tiff' in x]\n",
    "    list_gralPlots = glob.glob(path_folder + '/*.jpg')\n",
    "    PEDsdic[i] = [list_seqplots,list_endToend_plots,list_secondStruc_plots,list_gralPlots]"
   ]
  },
  {
   "cell_type": "code",
   "execution_count": 30,
   "metadata": {
    "collapsed": true
   },
   "outputs": [
    {
     "data": {
      "text/plain": [
       "{'PED1AAA': [['/home/anajulia/Be_project/Data/PED-DB3/PED1AAA/fastasequences/PED1AAA00-PED1AAA01_aln_pair.plot'],\n",
       "  ['/home/anajulia/Be_project/Data/PED-DB3/PED1AAA/End_to_End/PED1AAA_1_A_end_to_end_distance_plot.tiff',\n",
       "   '/home/anajulia/Be_project/Data/PED-DB3/PED1AAA/End_to_End/PED1AAA_2_A_end_to_end_distance_plot.tiff',\n",
       "   '/home/anajulia/Be_project/Data/PED-DB3/PED1AAA/End_to_End/PED1AAA_3_A_end_to_end_distance_plot.tiff'],\n",
       "  ['/home/anajulia/Be_project/Data/PED-DB3/PED1AAA/Secondary_structure/PED1AAA_3_A_secondary_structure_plot.tiff',\n",
       "   '/home/anajulia/Be_project/Data/PED-DB3/PED1AAA/Secondary_structure/PED1AAA_1_A_secondary_structure_plot.tiff',\n",
       "   '/home/anajulia/Be_project/Data/PED-DB3/PED1AAA/Secondary_structure/PED1AAA_2_A_secondary_structure_plot.tiff'],\n",
       "  ['/home/anajulia/Be_project/Data/PED-DB3/PED1AAA/PED1AAA_rgdist-ens_3-Rgdist.jpg',\n",
       "   '/home/anajulia/Be_project/Data/PED-DB3/PED1AAA/PED1AAA_rgdist-ens_1-Rgdist.jpg',\n",
       "   '/home/anajulia/Be_project/Data/PED-DB3/PED1AAA/PED1AAA_rgdist-ens_2-Rgdist.jpg']],\n",
       " 'PED1AAB': [[],\n",
       "  ['/home/anajulia/Be_project/Data/PED-DB3/PED1AAB/End_to_End/PED1AAB_1_A_end_to_end_distance_plot.tiff',\n",
       "   '/home/anajulia/Be_project/Data/PED-DB3/PED1AAB/End_to_End/PED1AAB_1_B_end_to_end_distance_plot.tiff'],\n",
       "  ['/home/anajulia/Be_project/Data/PED-DB3/PED1AAB/Secondary_structure/PED1AAB_1_A_secondary_structure_plot.tiff',\n",
       "   '/home/anajulia/Be_project/Data/PED-DB3/PED1AAB/Secondary_structure/PED1AAB_1_B_secondary_structure_plot.tiff'],\n",
       "  ['/home/anajulia/Be_project/Data/PED-DB3/PED1AAB/PED1AAB_rgdist-ens_1-Rgdist.jpg']],\n",
       " 'PED1AAD': [[],\n",
       "  ['/home/anajulia/Be_project/Data/PED-DB3/PED1AAD/End_to_End/PED1AAD_1_A_end_to_end_distance_plot.tiff'],\n",
       "  ['/home/anajulia/Be_project/Data/PED-DB3/PED1AAD/Secondary_structure/PED1AAD_1_A_secondary_structure_plot.tiff'],\n",
       "  ['/home/anajulia/Be_project/Data/PED-DB3/PED1AAD/PED1AAD_rgdist-ens_1-Rgdist.jpg']],\n",
       " 'PED2AAA': [[],\n",
       "  ['/home/anajulia/Be_project/Data/PED-DB3/PED2AAA/End_to_End/PED2AAA_1_A_end_to_end_distance_plot.tiff'],\n",
       "  ['/home/anajulia/Be_project/Data/PED-DB3/PED2AAA/Secondary_structure/PED2AAA_1_A_secondary_structure_plot.tiff'],\n",
       "  ['/home/anajulia/Be_project/Data/PED-DB3/PED2AAA/PED2AAA_rgdist-ens_1-Rgdist.jpg']],\n",
       " 'PED2AAB': [[],\n",
       "  ['/home/anajulia/Be_project/Data/PED-DB3/PED2AAB/End_to_End/PED2AAB_1_A_end_to_end_distance_plot.tiff',\n",
       "   '/home/anajulia/Be_project/Data/PED-DB3/PED2AAB/End_to_End/PED2AAB_1_B_end_to_end_distance_plot.tiff'],\n",
       "  ['/home/anajulia/Be_project/Data/PED-DB3/PED2AAB/Secondary_structure/PED2AAB_1_A_secondary_structure_plot.tiff',\n",
       "   '/home/anajulia/Be_project/Data/PED-DB3/PED2AAB/Secondary_structure/PED2AAB_1_B_secondary_structure_plot.tiff'],\n",
       "  ['/home/anajulia/Be_project/Data/PED-DB3/PED2AAB/PED2AAB_rgdist-ens_1-Rgdist.jpg']],\n",
       " 'PED2AAD': [[],\n",
       "  ['/home/anajulia/Be_project/Data/PED-DB3/PED2AAD/End_to_End/PED2AAD_1_A_end_to_end_distance_plot.tiff'],\n",
       "  ['/home/anajulia/Be_project/Data/PED-DB3/PED2AAD/Secondary_structure/PED2AAD_1_A_secondary_structure_plot.tiff'],\n",
       "  ['/home/anajulia/Be_project/Data/PED-DB3/PED2AAD/PED2AAD_rgdist-ens_1-Rgdist.jpg']],\n",
       " 'PED3AAA': [['/home/anajulia/Be_project/Data/PED-DB3/PED3AAA/fastasequences/PED3AAA01-PED3AAA03_aln_pair.plot',\n",
       "   '/home/anajulia/Be_project/Data/PED-DB3/PED3AAA/fastasequences/PED3AAA02-PED3AAA01_aln_pair.plot',\n",
       "   '/home/anajulia/Be_project/Data/PED-DB3/PED3AAA/fastasequences/PED3AAA01-PED3AAA00_aln_pair.plot'],\n",
       "  ['/home/anajulia/Be_project/Data/PED-DB3/PED3AAA/End_to_End/PED3AAA_1_B_end_to_end_distance_plot.tiff',\n",
       "   '/home/anajulia/Be_project/Data/PED-DB3/PED3AAA/End_to_End/PED3AAA_1_A_end_to_end_distance_plot.tiff',\n",
       "   '/home/anajulia/Be_project/Data/PED-DB3/PED3AAA/End_to_End/PED3AAA_1_D_end_to_end_distance_plot.tiff',\n",
       "   '/home/anajulia/Be_project/Data/PED-DB3/PED3AAA/End_to_End/PED3AAA_1_C_end_to_end_distance_plot.tiff'],\n",
       "  ['/home/anajulia/Be_project/Data/PED-DB3/PED3AAA/Secondary_structure/PED3AAA_1_D_secondary_structure_plot.tiff',\n",
       "   '/home/anajulia/Be_project/Data/PED-DB3/PED3AAA/Secondary_structure/PED3AAA_1_B_secondary_structure_plot.tiff',\n",
       "   '/home/anajulia/Be_project/Data/PED-DB3/PED3AAA/Secondary_structure/PED3AAA_1_C_secondary_structure_plot.tiff'],\n",
       "  ['/home/anajulia/Be_project/Data/PED-DB3/PED3AAA/PED3AAA_rgdist-ens_1-Rgdist.jpg']],\n",
       " 'PED3AAB': [['/home/anajulia/Be_project/Data/PED-DB3/PED3AAB/fastasequences/PED3AAB01-PED3AAB00_aln_pair.plot'],\n",
       "  ['/home/anajulia/Be_project/Data/PED-DB3/PED3AAB/End_to_End/PED3AAB_1_C_end_to_end_distance_plot.tiff',\n",
       "   '/home/anajulia/Be_project/Data/PED-DB3/PED3AAB/End_to_End/PED3AAB_1_A_end_to_end_distance_plot.tiff',\n",
       "   '/home/anajulia/Be_project/Data/PED-DB3/PED3AAB/End_to_End/PED3AAB_1_B_end_to_end_distance_plot.tiff',\n",
       "   '/home/anajulia/Be_project/Data/PED-DB3/PED3AAB/End_to_End/PED3AAB_1_D_end_to_end_distance_plot.tiff'],\n",
       "  ['/home/anajulia/Be_project/Data/PED-DB3/PED3AAB/Secondary_structure/PED3AAB_1_B_secondary_structure_plot.tiff',\n",
       "   '/home/anajulia/Be_project/Data/PED-DB3/PED3AAB/Secondary_structure/PED3AAB_1_A_secondary_structure_plot.tiff',\n",
       "   '/home/anajulia/Be_project/Data/PED-DB3/PED3AAB/Secondary_structure/PED3AAB_1_D_secondary_structure_plot.tiff',\n",
       "   '/home/anajulia/Be_project/Data/PED-DB3/PED3AAB/Secondary_structure/PED3AAB_1_C_secondary_structure_plot.tiff'],\n",
       "  ['/home/anajulia/Be_project/Data/PED-DB3/PED3AAB/PED3AAB_rgdist-ens_1-Rgdist.jpg']],\n",
       " 'PED3AAD': [[],\n",
       "  ['/home/anajulia/Be_project/Data/PED-DB3/PED3AAD/End_to_End/PED3AAD_1_A_end_to_end_distance_plot.tiff'],\n",
       "  ['/home/anajulia/Be_project/Data/PED-DB3/PED3AAD/Secondary_structure/PED3AAD_1_A_secondary_structure_plot.tiff'],\n",
       "  ['/home/anajulia/Be_project/Data/PED-DB3/PED3AAD/PED3AAD_rgdist-ens_1-Rgdist.jpg']],\n",
       " 'PED4AAA': [['/home/anajulia/Be_project/Data/PED-DB3/PED4AAA/fastasequences/PED4AAA00-PED4AAA01_aln_pair.plot',\n",
       "   '/home/anajulia/Be_project/Data/PED-DB3/PED4AAA/fastasequences/PED4AAA01-PED4AAA03_aln_pair.plot',\n",
       "   '/home/anajulia/Be_project/Data/PED-DB3/PED4AAA/fastasequences/PED4AAA01-PED4AAA02_aln_pair.plot'],\n",
       "  ['/home/anajulia/Be_project/Data/PED-DB3/PED4AAA/End_to_End/PED4AAA_1_A_end_to_end_distance_plot.tiff',\n",
       "   '/home/anajulia/Be_project/Data/PED-DB3/PED4AAA/End_to_End/PED4AAA_1_D_end_to_end_distance_plot.tiff',\n",
       "   '/home/anajulia/Be_project/Data/PED-DB3/PED4AAA/End_to_End/PED4AAA_1_B_end_to_end_distance_plot.tiff',\n",
       "   '/home/anajulia/Be_project/Data/PED-DB3/PED4AAA/End_to_End/PED4AAA_1_C_end_to_end_distance_plot.tiff'],\n",
       "  ['/home/anajulia/Be_project/Data/PED-DB3/PED4AAA/Secondary_structure/PED4AAA_1_B_secondary_structure_plot.tiff',\n",
       "   '/home/anajulia/Be_project/Data/PED-DB3/PED4AAA/Secondary_structure/PED4AAA_1_D_secondary_structure_plot.tiff',\n",
       "   '/home/anajulia/Be_project/Data/PED-DB3/PED4AAA/Secondary_structure/PED4AAA_1_C_secondary_structure_plot.tiff'],\n",
       "  ['/home/anajulia/Be_project/Data/PED-DB3/PED4AAA/PED4AAA_rgdist-ens_1-Rgdist.jpg']],\n",
       " 'PED4AAB': [[], [], [], []]}"
      ]
     },
     "execution_count": 30,
     "metadata": {},
     "output_type": "execute_result"
    }
   ],
   "source": [
    "### Information in dic will be in the following order: pairwise aligments plots, end to and plots, secondary structure plots and Rgdist plots\n",
    "PEDsdic"
   ]
  },
  {
   "cell_type": "code",
   "execution_count": null,
   "metadata": {
    "collapsed": true
   },
   "outputs": [],
   "source": [
    "\n"
   ]
  }
 ],
 "metadata": {
  "kernelspec": {
   "display_name": "Python 2",
   "language": "python",
   "name": "python2"
  },
  "language_info": {
   "codemirror_mode": {
    "name": "ipython",
    "version": 2
   },
   "file_extension": ".py",
   "mimetype": "text/x-python",
   "name": "python",
   "nbconvert_exporter": "python",
   "pygments_lexer": "ipython2",
   "version": "2.7.13"
  }
 },
 "nbformat": 4,
 "nbformat_minor": 2
}
