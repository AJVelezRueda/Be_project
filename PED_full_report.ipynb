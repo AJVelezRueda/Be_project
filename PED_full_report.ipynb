{
 "cells": [
  {
   "cell_type": "code",
   "execution_count": 2,
   "metadata": {
    "collapsed": true
   },
   "outputs": [],
   "source": [
    "###########################\n",
    "##- Importing libraries -##\n",
    "###########################\n",
    "import os,glob\n",
    "import pandas as pd"
   ]
  },
  {
   "cell_type": "code",
   "execution_count": 37,
   "metadata": {
    "collapsed": false
   },
   "outputs": [],
   "source": [
    "#################################\n",
    "#- Setting path to main folder -#\n",
    "#################################\n",
    "path_main = '/home/anajulia/Be_project/Data'\n",
    "path_sequences_plots = path_main + '/fastasequences/pairwise_alig_plot'\n",
    "path_cluster = path_main + '/fastasequences/clustrs_reports'\n",
    "path_data = path_main + '/PED-DB3'\n",
    "\n",
    "#######################\n",
    "#- Searching folders -#\n",
    "#######################\n",
    "list_data_dir = glob.glob(path_data +'/*')\n",
    "\n",
    "PEDs = []\n",
    "list_PEDs_dir = []\n",
    "for i in list_data_dir:\n",
    "    if i.split('/')[-1].startswith('PED'):\n",
    "        if 'json' not in i:\n",
    "            list_PEDs_dir.append(i)\n",
    "            PEDs.append(i.split('/')[-1])\n",
    "\n",
    "list_clusters = glob.glob(path_cluster +'/*')"
   ]
  },
  {
   "cell_type": "code",
   "execution_count": 39,
   "metadata": {
    "collapsed": false
   },
   "outputs": [
    {
     "data": {
      "text/plain": [
       "['/home/anajulia/Be_project/Data/PED-DB3/PED2AAD',\n",
       " '/home/anajulia/Be_project/Data/PED-DB3/PED2AAB',\n",
       " '/home/anajulia/Be_project/Data/PED-DB3/PED3AAA',\n",
       " '/home/anajulia/Be_project/Data/PED-DB3/PED3AAB',\n",
       " '/home/anajulia/Be_project/Data/PED-DB3/pedbPipe3.sh',\n",
       " '/home/anajulia/Be_project/Data/PED-DB3/list-entry-new',\n",
       " '/home/anajulia/Be_project/Data/PED-DB3/PED1AAB',\n",
       " '/home/anajulia/Be_project/Data/PED-DB3/PED2AAA',\n",
       " '/home/anajulia/Be_project/Data/PED-DB3/Reference_data-Kratky_plots',\n",
       " '/home/anajulia/Be_project/Data/PED-DB3/Ensembles-Format-to-be-modified',\n",
       " '/home/anajulia/Be_project/Data/PED-DB3/lista_prueba~',\n",
       " '/home/anajulia/Be_project/Data/PED-DB3/list-entry-one',\n",
       " '/home/anajulia/Be_project/Data/PED-DB3/PED1AAA',\n",
       " '/home/anajulia/Be_project/Data/PED-DB3/More-than-one-ensemble',\n",
       " '/home/anajulia/Be_project/Data/PED-DB3/problems.txt',\n",
       " '/home/anajulia/Be_project/Data/PED-DB3/SAXS-dat',\n",
       " '/home/anajulia/Be_project/Data/PED-DB3/list-entry-new~',\n",
       " '/home/anajulia/Be_project/Data/PED-DB3/Scripts',\n",
       " '/home/anajulia/Be_project/Data/PED-DB3/PDB-all-models',\n",
       " '/home/anajulia/Be_project/Data/PED-DB3/list-entry-new.log',\n",
       " '/home/anajulia/Be_project/Data/PED-DB3/lista_prueba_json',\n",
       " '/home/anajulia/Be_project/Data/PED-DB3/readme.txt',\n",
       " '/home/anajulia/Be_project/Data/PED-DB3/pedbQC3.sh',\n",
       " '/home/anajulia/Be_project/Data/PED-DB3/lista_prueba',\n",
       " '/home/anajulia/Be_project/Data/PED-DB3/PED1AAA.json',\n",
       " '/home/anajulia/Be_project/Data/PED-DB3/PED4AAA',\n",
       " '/home/anajulia/Be_project/Data/PED-DB3/PED2AAA.json',\n",
       " '/home/anajulia/Be_project/Data/PED-DB3/PED3AAD',\n",
       " '/home/anajulia/Be_project/Data/PED-DB3/SAXS-plots-scripts',\n",
       " '/home/anajulia/Be_project/Data/PED-DB3/PED4AAB',\n",
       " '/home/anajulia/Be_project/Data/PED-DB3/PED1AAD',\n",
       " '/home/anajulia/Be_project/Data/PED-DB3/lista_prueba_json~',\n",
       " '/home/anajulia/Be_project/Data/PED-DB3/chownstuff.sh',\n",
       " '/home/anajulia/Be_project/Data/PED-DB3/PED2AAA.json~',\n",
       " '/home/anajulia/Be_project/Data/PED-DB3/Additional-scripts-ped-analyses-master',\n",
       " '/home/anajulia/Be_project/Data/PED-DB3/PED1AAA.json~']"
      ]
     },
     "execution_count": 39,
     "metadata": {},
     "output_type": "execute_result"
    }
   ],
   "source": []
  },
  {
   "cell_type": "code",
   "execution_count": null,
   "metadata": {
    "collapsed": true
   },
   "outputs": [],
   "source": []
  }
 ],
 "metadata": {
  "kernelspec": {
   "display_name": "Python 2",
   "language": "python",
   "name": "python2"
  },
  "language_info": {
   "codemirror_mode": {
    "name": "ipython",
    "version": 2
   },
   "file_extension": ".py",
   "mimetype": "text/x-python",
   "name": "python",
   "nbconvert_exporter": "python",
   "pygments_lexer": "ipython2",
   "version": "2.7.13"
  }
 },
 "nbformat": 4,
 "nbformat_minor": 2
}
