{
 "cells": [
  {
   "cell_type": "code",
   "execution_count": null,
   "metadata": {
    "collapsed": true
   },
   "outputs": [],
   "source": [
    "############################################################################################################\n",
    "###- Important INFO: the folder must follow the structure: ~/Be_project/Data/PED-DB3/PED1AAA -#\n",
    "##- IMPORTANT: you must have a folder with called data in whith a folder with folder of each entry inside -# "
   ]
  },
  {
   "cell_type": "markdown",
   "metadata": {},
   "source": [
    "#################################\n",
    "##- FOR Installing libraries -##\n",
    "#------ Using  Python 3 -------#\n",
    "###############################################\n",
    "#-   Libraries could be installed manually   -#\n",
    "#- In which case you don't need to run this - #\n",
    "###############################################\n",
    "\n",
    "try:\n",
    "    from pip import main as pipmain\n",
    "except:\n",
    "    from pip._internal import main as pipmain\n",
    "\n",
    "def install(package):\n",
    "    pipmain(['install', \"--upgrade\", \"pip\"])\n",
    "    if hasattr(pip, 'main'):\n",
    "        pip.main(['install', package])\n",
    "    else:\n",
    "        try:\n",
    "            pip._internal.main(['install', package])\n",
    "        except:\n",
    "            print(pip._internal.main(['install', package]))\n",
    "\n",
    "###########################\n",
    "##- Installing Biopython-##\n",
    "###########################\n",
    "install('pdfkit')"
   ]
  },
  {
   "cell_type": "code",
   "execution_count": 32,
   "metadata": {
    "collapsed": true
   },
   "outputs": [],
   "source": [
    "###########################\n",
    "##- Importing libraries -##\n",
    "###########################\n",
    "import os,glob\n",
    "import pandas as pd\n",
    "import pdfkit"
   ]
  },
  {
   "cell_type": "code",
   "execution_count": 3,
   "metadata": {
    "collapsed": false
   },
   "outputs": [],
   "source": [
    "#################################\n",
    "#- Setting path to main folder -#\n",
    "#################################\n",
    "path_main = '/home/anajulia/Be_project/Data'\n",
    "path_data = path_main + '/PED-DB3'\n",
    "\n",
    "#######################\n",
    "#- Searching folders -#\n",
    "#######################\n",
    "list_data_dir = glob.glob(path_data +'/*')\n",
    "\n",
    "PEDs = []\n",
    "list_PEDs_dir = []\n",
    "for i in list_data_dir:\n",
    "    if i.split('/')[-1].startswith('PED'):\n",
    "        if 'json' not in i:\n",
    "            list_PEDs_dir.append(i)\n",
    "            PEDs.append(i.split('/')[-1])"
   ]
  },
  {
   "cell_type": "code",
   "execution_count": 26,
   "metadata": {
    "collapsed": false
   },
   "outputs": [],
   "source": [
    "#######################\n",
    "#- Searching files   -#\n",
    "#######################\n",
    "\n",
    "PEDsdic = {}\n",
    "for i in PEDs:\n",
    "    #building paths to folders\n",
    "    path_folder= path_data + '/' + i\n",
    "    path_seqs = path_folder + '/fastasequences/'\n",
    "    path_end_to_end = path_folder + '/End_to_End/'\n",
    "    path_second_struc = path_folder + '/Secondary_structure/'\n",
    "    #listing files\n",
    "    list_seqplots = glob.glob(path_seqs + '*')\n",
    "    list_seqplots = [x for x in list_seqplots if '.plot' in x]\n",
    "    list_endToend_plots = glob.glob(path_end_to_end + '*')\n",
    "    list_endToend_plots = [x for x in list_endToend_plots if '_plot.tiff' in x]\n",
    "    list_secondStruc_plots =  glob.glob(path_second_struc+'*')\n",
    "    list_secondStruc_plots = [x for x in list_secondStruc_plots if '_plot.tiff' in x]\n",
    "    list_gralPlots = glob.glob(path_folder + '/*.jpg')\n",
    "    PEDsdic[i] = [list_seqplots,list_endToend_plots,list_secondStruc_plots,list_gralPlots]"
   ]
  },
  {
   "cell_type": "code",
   "execution_count": 38,
   "metadata": {
    "collapsed": false
   },
   "outputs": [],
   "source": [
    "### Information in dic will be in the following order: pairwise aligments plots, end to and plots, secondary structure plots and Rgdist plots\n",
    "#PEDsdic"
   ]
  },
  {
   "cell_type": "code",
   "execution_count": 84,
   "metadata": {
    "collapsed": false
   },
   "outputs": [],
   "source": [
    "from reportlab.lib.pagesizes import letter\n",
    "from reportlab.pdfgen import canvas\n",
    "\n",
    "c = canvas.Canvas(\"PED_report.pdf\", pagesize=letter)\n",
    "c.setLineWidth(.3)\n",
    "c.setFont('Helvetica', 12)\n",
    "listita = glob.glob('/home/anajulia/Be_project/Data/PED-DB3/PED3AAA/fastasequences/*.plot')\n",
    "for i in listita:\n",
    "    with open(i,'r') as miarch:\n",
    "        data = miarch.readlines()\n",
    "        k = 0\n",
    "        for j in range(0,len(data[0])/70):\n",
    "            c.drawString(100+k,750+k,str(k+1))\n",
    "            c.drawString(120+k,770+k,data[0][k:k+80]+'/n')\n",
    "            c.drawString(140+k,790+k,data[1][k:k+80]+'/n')\n",
    "            c.drawString(160+k,810+k,data[2][k:k+80]+'/n')\n",
    "            #print(k+1)\n",
    "            #print(data[0][k:k+80])\n",
    "            #print(data[1][k:k+80])\n",
    "            #print(data[2][k:k+80])\n",
    "            k = k+80\n",
    "c.save()\n"
   ]
  },
  {
   "cell_type": "markdown",
   "metadata": {},
   "source": [
    "listita = glob.glob('/home/anajulia/Be_project/Data/PED-DB3/PED3AAA/fastasequences/*.plot')\n",
    "for i in listita:\n",
    "    with open(i,'r') as miarch:\n",
    "        data = miarch.readlines()\n",
    "        k = 0\n",
    "        for j in range(0,len(data[0])/70):\n",
    "            c.drawString(100,750,str(k+1))\n",
    "            c.drawString(100,750,data[0][k:k+80])\n",
    "            c.drawString(100,750,data[1][k:k+80])\n",
    "            c.drawString(100,750,data[2][k:k+80])\n",
    "            c.save()\n",
    "            #print(k+1)\n",
    "            #print(data[0][k:k+80])\n",
    "            #print(data[1][k:k+80])\n",
    "            #print(data[2][k:k+80])\n",
    "            k = k+80"
   ]
  },
  {
   "cell_type": "code",
   "execution_count": null,
   "metadata": {
    "collapsed": true
   },
   "outputs": [],
   "source": []
  }
 ],
 "metadata": {
  "kernelspec": {
   "display_name": "Python 2",
   "language": "python",
   "name": "python2"
  },
  "language_info": {
   "codemirror_mode": {
    "name": "ipython",
    "version": 2
   },
   "file_extension": ".py",
   "mimetype": "text/x-python",
   "name": "python",
   "nbconvert_exporter": "python",
   "pygments_lexer": "ipython2",
   "version": "2.7.13"
  }
 },
 "nbformat": 4,
 "nbformat_minor": 2
}
