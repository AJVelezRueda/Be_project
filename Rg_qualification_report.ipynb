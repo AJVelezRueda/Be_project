{
 "cells": [
  {
   "cell_type": "markdown",
   "metadata": {},
   "source": [
    "#############################\n",
    "#. RG qualification report -#\n",
    "#############################\n",
    "\n",
    "This program takes the Crysol output parsed: it works with the files contained in the Rg folder: \"-Rg-Dmax-mean.txt\" and \"rg.lits_ens\" files are used. \n",
    "This scripts also use as an input the all_fasta_sequences file. The theorical Rg value describing the native folded behaivor was calculated using the Wilkins formula (Wilkins et al. 1999).\n",
    "The theorical Rg value describing the intrinsically disordered behavior was calculated using the Wilkins formula (Wilkins et al. 1999). The lenght of the ensembles was calculated using the sum of all the chain lengths, calculated from their sequences. \n",
    "R0 and v values were 2.54 and 0.522 respectively."
   ]
  },
  {
   "cell_type": "code",
   "execution_count": 187,
   "metadata": {
    "collapsed": false
   },
   "outputs": [],
   "source": [
    "#######################################################\n",
    "##- Theorical Rg for intrinsically desorder protein -##\n",
    "def RgIDP(N):\n",
    "    \"\"\"\n",
    "    This function takes a sequence length and returns a the theorical Rg for native\n",
    "    folding and returns the theorical Rg for IDP \n",
    "    \"\"\"\n",
    "    try:\n",
    "        ## R0 value 2.54 and v value 0.522 ##\n",
    "        RG = ((N)**0.52)*2.54\n",
    "        return RG\n",
    "    except:\n",
    "        print('Something went wrong: check your data, only number lists are acepted!')"
   ]
  },
  {
   "cell_type": "code",
   "execution_count": 188,
   "metadata": {
    "collapsed": false
   },
   "outputs": [],
   "source": [
    "########################################\n",
    "##- Theorical Rg for natively folded -##\n",
    "def RgNF(N):\n",
    "    \"\"\"\n",
    "    This function takes a sequence length and returns a the theorical Rg for native\n",
    "    folding and returns the theorical Rg for the native folding \n",
    "    \"\"\"\n",
    "    try:\n",
    "        import math\n",
    "        A = math.sqrt(0.6)\n",
    "        B = (N)**0.29\n",
    "        RG = A*4.75*B\n",
    "        return RG\n",
    "    except:\n",
    "        print('Something went wrong: check your data, only number lists are acepted!')"
   ]
  },
  {
   "cell_type": "code",
   "execution_count": 192,
   "metadata": {
    "collapsed": false
   },
   "outputs": [],
   "source": [
    "######################################################\n",
    "##- Theorical RgNF and RgIDP for a list of lengths -##\n",
    "def limits(list_length):\n",
    "    \"\"\"\n",
    "    This function takes a list of sequence lengths (list of numbers) and returns \n",
    "    a list of theorical Rg for native\n",
    "    folding and for IDP\n",
    "    \"\"\"\n",
    "    try:\n",
    "        #start calculations if everything goes well\n",
    "        RgNFs = []\n",
    "        RgIDPs = []\n",
    "        for i in list_length:\n",
    "            RgIDPs.append(RgIDP(i))\n",
    "            RgNFs.append(RgNF(i))\n",
    "        return RgIDPs,RgNFs\n",
    "    except:\n",
    "        print('Something went wrong: check your list, only number lists are acepted as input!')"
   ]
  },
  {
   "cell_type": "code",
   "execution_count": 196,
   "metadata": {
    "collapsed": true
   },
   "outputs": [],
   "source": [
    "#########################\n",
    "#- importing libraries -#\n",
    "import pandas as pd\n",
    "\n",
    "##################\n",
    "#- setting paths -#\n",
    "path_main = '/home/anajulia/Be_project/Data'\n",
    "path_data = path_main + '/PED-DB3'"
   ]
  },
  {
   "cell_type": "code",
   "execution_count": 197,
   "metadata": {
    "collapsed": false
   },
   "outputs": [],
   "source": [
    "####################\n",
    "#- setting paths -#\n",
    "df = pd.read_csv(path_main + '/general_paths_to_data', sep='\\t')\n",
    "PEDs = list(df)"
   ]
  },
  {
   "cell_type": "code",
   "execution_count": 201,
   "metadata": {
    "collapsed": false
   },
   "outputs": [],
   "source": [
    "###############################################\n",
    "##--- getting the ensemble sum of lengths --##\n",
    "list_sums = []\n",
    "for i in PEDs:\n",
    "    fasta_file = df[i].tolist()[1].replace(\"['\",\"\").replace(\"']\",\"\")\n",
    "    lengths_sums = 0\n",
    "    if fasta_file != '[]':\n",
    "        with open(fasta_file,'r') as miarch:\n",
    "            data = miarch.read().split('\\n>')\n",
    "            for j in data:\n",
    "                lengths_sums = lengths_sums + len(j.split('\\n')[1])\n",
    "    list_sums.append(lengths_sums)\n",
    "    \n",
    "#################################\n",
    "#- calculating the Rgs values -#\n",
    "Rgs_values = limits(list_sums)"
   ]
  },
  {
   "cell_type": "code",
   "execution_count": 211,
   "metadata": {
    "collapsed": false
   },
   "outputs": [],
   "source": [
    "#########################\n",
    "#- saving data in a df -#\n",
    "reportdf = pd.DataFrame()\n",
    "reportdf['PEDid'] = PEDs\n",
    "reportdf['length'] = list_sums\n",
    "reportdf['RgIDP'] = Rgs_values[0]\n",
    "reportdf['RgNF'] = Rgs_values[1]\n",
    "\n",
    "###########################\n",
    "#- saving data in a file -#\n",
    "reportdf.to_csv(path_data + \"/reports/theoRGs.cvs\", index=False)"
   ]
  }
 ],
 "metadata": {
  "kernelspec": {
   "display_name": "Python 2",
   "language": "python",
   "name": "python2"
  },
  "language_info": {
   "codemirror_mode": {
    "name": "ipython",
    "version": 2
   },
   "file_extension": ".py",
   "mimetype": "text/x-python",
   "name": "python",
   "nbconvert_exporter": "python",
   "pygments_lexer": "ipython2",
   "version": "2.7.13"
  }
 },
 "nbformat": 4,
 "nbformat_minor": 2
}
