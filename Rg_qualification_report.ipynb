{
 "cells": [
  {
   "cell_type": "markdown",
   "metadata": {},
   "source": [
    "#############################\n",
    "#. RG qualification report -#\n",
    "#############################\n",
    "\n",
    "This program takes the Crysol output parsed: it works with the files contained in the Rg folder: \"-Rg-Dmax-mean.txt\" and \"rg.lits_ens\" files are used. \n",
    "This scripts also use as an input the all_fasta_sequences file. The theorical Rg value describing the native folded behaivor was calculated using the Wilkins formula (Wilkins et al. 1999).\n",
    "The theorical Rg value describing the intrinsically disordered behavior was calculated using the Wilkins formula (Wilkins et al. 1999). The lenght of the ensembles was calculated using the sum of all the chain lengths, calculated from their sequences. \n",
    "R0 and v values were 2.54 and 0.522 respectively."
   ]
  },
  {
   "cell_type": "code",
   "execution_count": 9,
   "metadata": {
    "collapsed": true
   },
   "outputs": [],
   "source": [
    "#########################\n",
    "#- importing libraries -#\n",
    "import pandas as pd\n",
    "\n",
    "##################\n",
    "#- seting paths -#\n",
    "path_main = '/home/anajulia/Be_project/Data'\n",
    "path_data = path_main + '/PED-DB3'"
   ]
  },
  {
   "cell_type": "code",
   "execution_count": 10,
   "metadata": {
    "collapsed": false
   },
   "outputs": [],
   "source": [
    "####################\n",
    "#- setting paths -#\n",
    "df = pd.read_csv(path_main + '/general_paths_to_data', sep='\\t')\n",
    "PEDs = list(df)"
   ]
  },
  {
   "cell_type": "code",
   "execution_count": 13,
   "metadata": {
    "collapsed": false
   },
   "outputs": [],
   "source": [
    "###############################################\n",
    "##--- getting the ensemble sum of lengths --##\n",
    "list_sums = []\n",
    "for i in PEDs:\n",
    "    fasta_file = df[i].tolist()[1].replace(\"['\",\"\").replace(\"']\",\"\")\n",
    "    lengths_sums = 0\n",
    "    if fasta_file != '[]':\n",
    "        with open(fasta_file,'r') as miarch:\n",
    "            data = miarch.read().split('\\n>')\n",
    "            for j in data:\n",
    "                lengths_sums = lengths_sums + len(j.split('\\n')[1])\n",
    "    list_sums.append(lengths_sums)"
   ]
  },
  {
   "cell_type": "code",
   "execution_count": 44,
   "metadata": {
    "collapsed": false
   },
   "outputs": [],
   "source": [
    "########################################\n",
    "##- Theorical Rg for natively folded -##\n",
    "def RgNF(N):\n",
    "    import math\n",
    "    A = N**0.29\n",
    "    B = math.sqrt(3/5)\n",
    "    RG = B*4.75*A\n",
    "    return RG\n",
    "\n",
    "#########################################################\n",
    "##- Theorical Rg for intrinsically disordered protein -##\n",
    "def RgIDP(N):\n",
    "    ## R0 value 2.54 and v value 0.522 ##\n",
    "    A = N**0.522\n",
    "    RG = 2.54*A\n",
    "    return RG"
   ]
  },
  {
   "cell_type": "code",
   "execution_count": 45,
   "metadata": {
    "collapsed": false
   },
   "outputs": [
    {
     "name": "stdout",
     "output_type": "stream",
     "text": [
      "366\n",
      "208\n",
      "138\n",
      "274\n",
      "145\n",
      "825\n",
      "377\n",
      "71\n",
      "825\n"
     ]
    }
   ],
   "source": [
    "RgNFs = []\n",
    "RgIDP = []\n",
    "for i in list_sums:\n",
    "    if i != 0:\n",
    "        print(i)\n",
    "        RgNFs.append(RgNF(float(i)))\n",
    "        #RgIDP.append(RgIDP(int(i)))"
   ]
  },
  {
   "cell_type": "code",
   "execution_count": 46,
   "metadata": {
    "collapsed": false
   },
   "outputs": [
    {
     "ename": "TypeError",
     "evalue": "'list' object is not callable",
     "output_type": "error",
     "traceback": [
      "\u001b[0;31m---------------------------------------------------------------------------\u001b[0m",
      "\u001b[0;31mTypeError\u001b[0m                                 Traceback (most recent call last)",
      "\u001b[0;32m<ipython-input-46-6946ba2abbe7>\u001b[0m in \u001b[0;36m<module>\u001b[0;34m()\u001b[0m\n\u001b[0;32m----> 1\u001b[0;31m \u001b[0mRgIDP\u001b[0m\u001b[0;34m(\u001b[0m\u001b[0;36m208\u001b[0m\u001b[0;34m)\u001b[0m\u001b[0;34m\u001b[0m\u001b[0m\n\u001b[0m",
      "\u001b[0;31mTypeError\u001b[0m: 'list' object is not callable"
     ]
    }
   ],
   "source": [
    "RgIDP(208)"
   ]
  },
  {
   "cell_type": "code",
   "execution_count": null,
   "metadata": {
    "collapsed": true
   },
   "outputs": [],
   "source": []
  }
 ],
 "metadata": {
  "kernelspec": {
   "display_name": "Python 2",
   "language": "python",
   "name": "python2"
  },
  "language_info": {
   "codemirror_mode": {
    "name": "ipython",
    "version": 2
   },
   "file_extension": ".py",
   "mimetype": "text/x-python",
   "name": "python",
   "nbconvert_exporter": "python",
   "pygments_lexer": "ipython2",
   "version": "2.7.13"
  }
 },
 "nbformat": 4,
 "nbformat_minor": 2
}
