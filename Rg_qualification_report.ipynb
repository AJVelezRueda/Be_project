{
 "cells": [
  {
   "cell_type": "markdown",
   "metadata": {},
   "source": [
    "#############################\n",
    "#. RG qualification report -#\n",
    "#############################\n",
    "\n",
    "This program takes the Crysol output parsed: it works with the files contained in the Rg folder: \"-Rg-Dmax-mean.txt\" and \"rg.lits_ens\" files are used. \n",
    "This scripts also use as an input the all_fasta_sequences file. The theorical Rg value describing the native folded behaivor was calculated using the Wilkins formula (Wilkins et al. 1999).\n",
    "The theorical Rg value describing the intrinsically disordered behavior was calculated using the Wilkins formula (Wilkins et al. 1999). The lenght of the ensembles was calculated using the sum of all the chain lengths, calculated from their sequences. \n",
    "R0 and v values were 2.54 and 0.522 respectively."
   ]
  },
  {
   "cell_type": "code",
   "execution_count": 187,
   "metadata": {
    "collapsed": false
   },
   "outputs": [],
   "source": [
    "#######################################################\n",
    "##- Theorical Rg for intrinsically desorder protein -##\n",
    "def RgIDP(N):\n",
    "    \"\"\"\n",
    "    This function takes a sequence length and returns a the theorical Rg for native\n",
    "    folding and returns the theorical Rg for IDP \n",
    "    \"\"\"\n",
    "    try:\n",
    "        ## R0 value 2.54 and v value 0.522 ##\n",
    "        RG = ((N)**0.52)*2.54\n",
    "        return RG\n",
    "    except:\n",
    "        print('Something went wrong: check your data, only number lists are acepted!')"
   ]
  },
  {
   "cell_type": "code",
   "execution_count": 188,
   "metadata": {
    "collapsed": false
   },
   "outputs": [],
   "source": [
    "########################################\n",
    "##- Theorical Rg for natively folded -##\n",
    "def RgNF(N):\n",
    "    \"\"\"\n",
    "    This function takes a sequence length and returns a the theorical Rg for native\n",
    "    folding and returns the theorical Rg for the native folding \n",
    "    \"\"\"\n",
    "    try:\n",
    "        import math\n",
    "        A = math.sqrt(0.6)\n",
    "        B = (N)**0.29\n",
    "        RG = A*4.75*B\n",
    "        return RG\n",
    "    except:\n",
    "        print('Something went wrong: check your data, only number lists are acepted!')"
   ]
  },
  {
   "cell_type": "code",
   "execution_count": 192,
   "metadata": {
    "collapsed": false
   },
   "outputs": [],
   "source": [
    "######################################################\n",
    "##- Theorical RgNF and RgIDP for a list of lengths -##\n",
    "def limits(list_length):\n",
    "    \"\"\"\n",
    "    This function takes a list of sequence lengths (list of numbers) and returns \n",
    "    a list of theorical Rg for native\n",
    "    folding and for IDP\n",
    "    \"\"\"\n",
    "    try:\n",
    "        #start calculations if everything goes well\n",
    "        RgNFs = []\n",
    "        RgIDPs = []\n",
    "        for i in list_length:\n",
    "            RgIDPs.append(RgIDP(i))\n",
    "            RgNFs.append(RgNF(i))\n",
    "        return RgIDPs,RgNFs\n",
    "    except:\n",
    "        print('Something went wrong: check your list, only number lists are acepted as input!')"
   ]
  },
  {
   "cell_type": "code",
   "execution_count": 9,
   "metadata": {
    "collapsed": true
   },
   "outputs": [],
   "source": [
    "#########################\n",
    "#- importing libraries -#\n",
    "import pandas as pd\n",
    "\n",
    "##################\n",
    "#- seting paths -#\n",
    "path_main = '/home/anajulia/Be_project/Data'\n",
    "path_data = path_main + '/PED-DB3'"
   ]
  },
  {
   "cell_type": "code",
   "execution_count": 10,
   "metadata": {
    "collapsed": false
   },
   "outputs": [],
   "source": [
    "####################\n",
    "#- setting paths -#\n",
    "df = pd.read_csv(path_main + '/general_paths_to_data', sep='\\t')\n",
    "PEDs = list(df)"
   ]
  },
  {
   "cell_type": "code",
   "execution_count": 186,
   "metadata": {
    "collapsed": false
   },
   "outputs": [],
   "source": [
    "###############################################\n",
    "##--- getting the ensemble sum of lengths --##\n",
    "list_sums = []\n",
    "for i in PEDs:\n",
    "    fasta_file = df[i].tolist()[1].replace(\"['\",\"\").replace(\"']\",\"\")\n",
    "    lengths_sums = 0\n",
    "    if fasta_file != '[]':\n",
    "        with open(fasta_file,'r') as miarch:\n",
    "            data = miarch.read().split('\\n>')\n",
    "            for j in data:\n",
    "                lengths_sums = lengths_sums + len(j.split('\\n')[1])\n",
    "    list_sums.append(lengths_sums)"
   ]
  },
  {
   "cell_type": "code",
   "execution_count": 195,
   "metadata": {
    "collapsed": false
   },
   "outputs": [
    {
     "data": {
      "text/plain": [
       "([54.68193584534022,\n",
       "  40.75929380327368,\n",
       "  0.0,\n",
       "  32.92841613551616,\n",
       "  47.03964215687948,\n",
       "  33.78664571030295,\n",
       "  83.44297312296266,\n",
       "  55.5304533071169,\n",
       "  23.30709025549593,\n",
       "  83.44297312296266,\n",
       "  0.0],\n",
       " [20.37880668516606,\n",
       "  17.29846638445664,\n",
       "  0.0,\n",
       "  15.357982552566176,\n",
       "  18.73772660496374,\n",
       "  15.57994626502974,\n",
       "  25.795317628791203,\n",
       "  20.554561981186154,\n",
       "  12.665844619674566,\n",
       "  25.795317628791203,\n",
       "  0.0])"
      ]
     },
     "execution_count": 195,
     "metadata": {},
     "output_type": "execute_result"
    }
   ],
   "source": [
    "limits(list_sums)"
   ]
  },
  {
   "cell_type": "code",
   "execution_count": null,
   "metadata": {
    "collapsed": true
   },
   "outputs": [],
   "source": []
  }
 ],
 "metadata": {
  "kernelspec": {
   "display_name": "Python 2",
   "language": "python",
   "name": "python2"
  },
  "language_info": {
   "codemirror_mode": {
    "name": "ipython",
    "version": 2
   },
   "file_extension": ".py",
   "mimetype": "text/x-python",
   "name": "python",
   "nbconvert_exporter": "python",
   "pygments_lexer": "ipython2",
   "version": "2.7.13"
  }
 },
 "nbformat": 4,
 "nbformat_minor": 2
}
