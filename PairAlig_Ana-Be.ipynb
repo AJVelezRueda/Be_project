{
 "cells": [
  {
   "cell_type": "markdown",
   "metadata": {},
   "source": [
    "############################\n",
    "##- Installing libraries -##\n",
    "#--------- Python 3 -------#\n",
    "############################\n",
    "try:\n",
    "    from pip import main as pipmain\n",
    "except:\n",
    "    from pip._internal import main as pipmain\n",
    "\n",
    "def install(package):\n",
    "    pipmain(['install', \"--upgrade\", \"pip\"])\n",
    "    if hasattr(pip, 'main'):\n",
    "        pip.main(['install', package])\n",
    "    else:\n",
    "        try:\n",
    "            pip._internal.main(['install', package])\n",
    "        except:\n",
    "            print(pip._internal.main(['install', package]))\n",
    "\n",
    "###########################\n",
    "##- Installing Biopython-##\n",
    "###########################\n",
    "if _name_ == '_main_':\n",
    "    install('biopython')"
   ]
  },
  {
   "cell_type": "code",
   "execution_count": 2,
   "metadata": {
    "collapsed": false
   },
   "outputs": [
    {
     "name": "stdout",
     "output_type": "stream",
     "text": [
      "Collecting biopython\n",
      "  Downloading https://files.pythonhosted.org/packages/e5/3c/1aae19dc685dab77ccd0adfded6bba93821619ad6c57766b349d61cbe61b/biopython-1.72-cp27-cp27mu-manylinux1_x86_64.whl (2.1MB)\n",
      "Requirement already satisfied: numpy in /home/anajulia/anaconda2/lib/python2.7/site-packages (from biopython) (1.11.3)\n",
      "Installing collected packages: biopython\n",
      "Successfully installed biopython-1.72\n"
     ]
    }
   ],
   "source": [
    "############################\n",
    "##- Installing libraries -##\n",
    "##------- Python 2 -------##\n",
    "############################\n",
    "import pip\n",
    "\n",
    "def install(package):\n",
    "    if hasattr(pip, 'main'):\n",
    "        pip.main(['install', package])\n",
    "    else:\n",
    "        pip._internal.main(['install', package])\n",
    "\n",
    "###########################\n",
    "##- Installing Biopython-##\n",
    "###########################\n",
    "if __name__ == '__main__':\n",
    "    install('biopython')"
   ]
  },
  {
   "cell_type": "code",
   "execution_count": 30,
   "metadata": {
    "collapsed": false
   },
   "outputs": [
    {
     "name": "stdout",
     "output_type": "stream",
     "text": [
      "clustalw is ready to use\n"
     ]
    }
   ],
   "source": [
    "###################################################\n",
    "##-- checking if clustalw is already installed --##\n",
    "#  Source: https://askubuntu.com/questions/35744  #\n",
    "###################################################\n",
    "\n",
    "##-- def query_package --##\n",
    "import os.path\n",
    "path = '/usr/bin/clustalw'\n",
    "def query_package(path):\n",
    "    if os.path.exists(path):\n",
    "        return 'clustalw is ready to use'\n",
    "    else:\n",
    "        return 'please install clustalw'\n",
    "\n",
    "##-- def _install_clustalw --##\n",
    "def _install_clustalw():\n",
    "    subprocess.call(\"sudo get install clustalw\", shell=True)\n",
    "\n",
    "##-- check point --##\n",
    "if query_package(path) == \"clustalw is ready to use\":\n",
    "    print('clustalw is ready to use')\n",
    "    pass\n",
    "else:\n",
    "    print('Installing clustalw')\n",
    "    _intall_clustal()\n",
    "    print('Done')"
   ]
  },
  {
   "cell_type": "code",
   "execution_count": 38,
   "metadata": {
    "collapsed": false
   },
   "outputs": [],
   "source": [
    "### IMPORTANT DATA INFO:this script takes '.txt' files with fasta sequences of an ensemble of proteins\n",
    "## IMPORTANT DATA INFO: The reference sequence must be the first file sequence \n",
    "#############################################################################################################\n",
    "\n",
    "##- Importing linbraries -##\n",
    "############################\n",
    "import os\n",
    "import glob\n",
    "import subprocess\n",
    "\n",
    "#- Setting the working directory -##\n",
    "####################################\n",
    "path = '/home/anajulia/Be_project/fastasequences'\n",
    "os.chdir(path)"
   ]
  },
  {
   "cell_type": "code",
   "execution_count": 12,
   "metadata": {
    "collapsed": false
   },
   "outputs": [],
   "source": [
    "#- Spliting sequences into separates files -##\n",
    "##############################################\n",
    "files_list = glob.glob('*.txt')\n",
    "for i in files_list:\n",
    "    subprocess.call(['split','-l2','-d',i,i.split('_')[0]+'_sequence.'])"
   ]
  },
  {
   "cell_type": "code",
   "execution_count": 62,
   "metadata": {
    "collapsed": true
   },
   "outputs": [
    {
     "name": "stdout",
     "output_type": "stream",
     "text": [
      "/home/anajulia/Be_project/fastasequences/PED3AAB02-PED3AAB00_pair.fasta\n",
      "-------P------------VA----QVPTDPGHFSVLLDVKHFSPEEIAVKVVGEHVEVHARHAARPDEHGFVAREFHRRYRLPPGVDPAAVTSALSPEGVLSIQA--------------\n",
      "       |            ||    |||||||||||||||||||||||||||||||||||||||||||||||||||||||||||||||||||||||||||||||||              \n",
      "AELAALCPTTLAPYYLRAPSVALPVAQVPTDPGHFSVLLDVKHFSPEEIAVKVVGEHVEVHARHAARPDEHGFVAREFHRRYRLPPGVDPAAVTSALSPEGVLSIQAAPASAQAPPPAAAK\n",
      "  Score=84\n",
      "\n",
      "/home/anajulia/Be_project/fastasequences/PED3AAB01-PED3AAB00_pair.fasta\n",
      "--L----P------------VA----QVPTDPGHFSVLLDVKHFSPEEIAVKVVGEHVEVHARHAARPDEHGFVAREFHRRYRLPPGVDPAAVTSALSPEGVLSIQAAPA-----------\n",
      "  |    |            ||    ||||||||||||||||||||||||||||||||||||||||||||||||||||||||||||||||||||||||||||||||||||           \n",
      "AELAALCPTTLAPYYLRAPSVALPVAQVPTDPGHFSVLLDVKHFSPEEIAVKVVGEHVEVHARHAARPDEHGFVAREFHRRYRLPPGVDPAAVTSALSPEGVLSIQAAPASAQAPPPAAAK\n",
      "  Score=88\n",
      "\n",
      "/home/anajulia/Be_project/fastasequences/PED3AAB03-PED3AAB00_pair.fasta\n",
      "--------------------VA----QVPTDPGHFSVLLDVKHFSPEEIAVKVVGEHVEVHARHAARPDEHGFVAREFHRRYRLPPGVDPAAVTSALSPEGVLSIQAA-------------\n",
      "                    ||    ||||||||||||||||||||||||||||||||||||||||||||||||||||||||||||||||||||||||||||||||||             \n",
      "AELAALCPTTLAPYYLRAPSVALPVAQVPTDPGHFSVLLDVKHFSPEEIAVKVVGEHVEVHARHAARPDEHGFVAREFHRRYRLPPGVDPAAVTSALSPEGVLSIQAAPASAQAPPPAAAK\n",
      "  Score=84\n",
      "\n",
      "/home/anajulia/Be_project/fastasequences/PED1AAA00-PED1AAA03_pair.fasta\n",
      "--MTPST-PPRSRGTRYLAQPSGNTSSSALMQGQKT-PQKPSQNLVPVT-PSTTKSFKNAPLLAPPNSNMGMTS-PFNGLTS-PQRS-PFPKSSVKRT\n",
      "  ||||  |||||||||||||||||||||||||||  |||||||||||  |||||||||||||||||||||||  ||||||  |||  ||||||||||\n",
      "GSMTPS-XPPRSRGTRYLAQPSGNTSSSALMQGQK-XPQKPSQNLVPV-XPSTTKSFKNAPLLAPPNSNMGMT-XPFNGLT-XPQR-XPFPKSSVKRT\n",
      "  Score=84\n",
      "\n",
      "/home/anajulia/Be_project/fastasequences/PED1AAA00-PED1AAA02_pair.fasta\n",
      "--MTPST-PPRSRGTRYLAQPSGNTSSSALMQGQKT-PQKPSQNLVPVT-PSTTKSFKNAPLLAPPNSNMGMTS-PFNGLTS-PQRS-PFPKSSVKRT\n",
      "  ||||  |||||||||||||||||||||||||||  |||||||||||  |||||||||||||||||||||||  ||||||  |||  ||||||||||\n",
      "GSMTPS-XPPRSRGTRYLAQPSGNTSSSALMQGQK-XPQKPSQNLVPV-XPSTTKSFKNAPLLAPPNSNMGMT-XPFNGLT-XPQR-XPFPKSSVKRT\n",
      "  Score=84\n",
      "\n",
      "/home/anajulia/Be_project/fastasequences/PED1AAA00-PED1AAA01_pair.fasta\n",
      "--MTPST-PPRSRGTRYLAQPSGNTSSSALMQGQKT-PQKPSQNLVPVT-PSTTKSFKNAPLLAPPNSNMGMTS-PFNGLTS-PQRS-PFPKSSVKRT\n",
      "  ||||  |||||||||||||||||||||||||||  |||||||||||  |||||||||||||||||||||||  ||||||  |||  ||||||||||\n",
      "GSMTPS-XPPRSRGTRYLAQPSGNTSSSALMQGQK-XPQKPSQNLVPV-XPSTTKSFKNAPLLAPPNSNMGMT-XPFNGLT-XPQR-XPFPKSSVKRT\n",
      "  Score=84\n",
      "\n",
      "/home/anajulia/Be_project/fastasequences/PED3AAA02-PED3AAA00_pair.fasta\n",
      "-ASKGEELFTGVVPILVELDGDVNGHKFSVSGEGEGDATYGKLTLKFICTTGKLPVPWPTLVTTFSYGVQCFSRYPDHMKRHDFFKSAMPEGYVQERTIFFKDDGNYKTRAEVKFEGDTLVNRIE--LKGI-DFKEDGNILGHKLEYNYNSHNVYIMADKQKNGIKVNFKIRHNIEDGSVQLADHYQQNTPIG----DGPVLLPDNHYLSTQS-A--LSK--DPNEKRDHMVLLEFVTAAGIT--\n",
      " |                            |                          |              |        |       |    |     |          | |  |          | |  |  |        |         |              | |  |      ||      |       | |   |          |  |    |  |       |           \n",
      "MA----------------------------S--------------------------W--------------S--------H-------P----Q-----F----------E-K--G--------AML-G-MD--E--------L---------Y--------------K-R--I------LA------T---MASRD-P---P---------VATML--GMD--E-------L---------YK\n",
      "  Score=31\n",
      "\n",
      "/home/anajulia/Be_project/fastasequences/PED3AAA01-PED3AAA00_pair.fasta\n",
      "MATKGGTVKAASG-----FNAMEDAQTLRK-AMKGLGT-DEDAIISVLAYRNTAQRQEIRTAYKSTIGRDLIDDLKSELSGNFEQVIVGMMTPTVLYDVQELRRAMKGAGTDEGCLIEILASRTPEEIRRISQTYQQQYGRSLEDDIRSDTSFMFQRVLVSLSAGGRDEGNYLDDALVRQDAQDLYEAGEKKWGTDEVKFLTVLCSRNRNHLLHVFDEYKRISQKDIEQSIKSETSGSFEDALLAI--VKCMRNKSAYFAEKLYKS-MKGLGTDDNTLIRVMVSRAEIDMLDIRAHFKRLYGKS-LYSFIKGDTSGDYRKVLLVLCGGDD\n",
      "|         ||      |   |      | ||  ||  ||      |              |            |                           |              |||                             |  |                                 |                 |              |                   |       |          |       |  ||                 | |             |           | |          \n",
      "M---------AS-WSHPQF---E------KGAM--LG-MDE------L--------------Y------------K---------------------------R--------------ILA-----------------------------T--M---------------------------------A-----------------S--------------R-------------------D-----PPV----------A------TM--LG-----------------M-D------------EL-----------Y-K----------\n",
      "  Score=35\n",
      "\n",
      "/home/anajulia/Be_project/fastasequences/PED3AAA00-PED3AAA03_pair.fasta\n",
      "MAS------------------------------------------------------W-------S-----------H-----------P----QFE-----K--G-----AM--------L-------GM-D--E----L-----Y------------K-----------R--I------LATMASRD------P----PVA---------TM---LGM--D--ELYK----------------\n",
      " ||                                                      |       |           |           |    | |     |  |     |         |       |  |  |    |     |            |           |  |      |   |  |      |    ||          |    |    |  |  |                \n",
      "-ASKGEELFTGVVPILVELDGDVNGHKFSVSGEGEGDATYGKLTLKFICTTGKLPVPWPTLVTTFSYGVQCFSRYPDHMKRHDFFKSAMPEGYVQ-ERTIFFKDDGNYKTRA-EVKFEGDTLVNRIELKG-IDFKEDGNILGHKLEYNYNSHNVYIMADKQKNGIKVNFKIRHNIEDGSVQL---A--DHYQQNTPIGDGPV-LLPDNHYLST-QSAL--SKDPNE--KRDHMVLLEFVTAAGIT\n",
      "  Score=31\n",
      "\n",
      "/home/anajulia/Be_project/fastasequences/PED4AAA00-PED4AAA01_pair.fasta\n",
      "MASW---------SHPQ-F---E------KGAM--LGM-DE------L-Y-------------K----R--I--LA----------------T-------------M--A------------SRDP-P--------------------------------V-----A------------------------------TM-----L-----------------------------------G------------M--------------------D------------E---L---------Y-K--------------------------\n",
      "||           |    |   |      | ||  ||  ||      | |             |    |  |  |                 |             |  |            ||   |                                |     |                              |      |                                   |            |                    |            |   |         | |                          \n",
      "MA--TKGGTVKAAS---GFNAMEDAQTLRK-AMKGLG-TDEDAIISVLAYRNTAQRQEIRTAYKSTIGRDLIDDL-KSELSGNFEQVIVGMMTPTVLYDVQELRRAMKGAGTDEGCLIEILASR--TPEEIRRISQTYQQQYGRSLEDDIRSDTSFMFQRVLVSLSAGGRDEGNYLDDALVRQDAQDLYEAGEKKWGT-DEVKFLTVLCSRNRNHLLHVFDEYKRISQKDIEQSIKSETSGSFEDALLAIVKCMRNKSAYFAEKLYKSMKGLGTDDNTLIRVMVSRAEIDMLDIRAHFKRLYGKSLYSFIKGDTSGDYRKVLLVLCGGDD\n",
      "  Score=35\n",
      "\n",
      "/home/anajulia/Be_project/fastasequences/PED4AAA00-PED4AAA03_pair.fasta\n",
      "MAS------------------------------------------------------W-------S-----------H-----------P----QFE-----K--G-----AM--------L-------GM-D--E----L-----Y------------K-----------R--I------LATMASRD------P----PVA---------TM---LGM--D--ELYK----------------\n",
      " ||                                                      |       |           |           |    | |     |  |     |         |       |  |  |    |     |            |           |  |      |   |  |      |    ||          |    |    |  |  |                \n",
      "-ASKGEELFTGVVPILVELDGDVNGHKFSVSGEGEGDATYGKLTLKFICTTGKLPVPWPTLVTTFSYGVQCFSRYPDHMKRHDFFKSAMPEGYVQ-ERTIFFKDDGNYKTRA-EVKFEGDTLVNRIELKG-IDFKEDGNILGHKLEYNYNSHNVYIMADKQKNGIKVNFKIRHNIEDGSVQL---A--DHYQQNTPIGDGPV-LLPDNHYLST-QSAL--SKDPNE--KRDHMVLLEFVTAAGIT\n",
      "  Score=31\n",
      "\n",
      "/home/anajulia/Be_project/fastasequences/PED4AAA00-PED4AAA02_pair.fasta\n",
      "MAS------------------------------------------------------W-------S-----------H-----------P----QFE-----K--G-----AM--------L-------GM-D--E----L-----Y------------K-----------R--I------LATMASRD------P----PVA---------TM---LGM--D--ELYK----------------\n",
      " ||                                                      |       |           |           |    | |     |  |     |         |       |  |  |    |     |            |           |  |      |   |  |      |    ||          |    |    |  |  |                \n",
      "-ASKGEELFTGVVPILVELDGDVNGHKFSVSGEGEGDATYGKLTLKFICTTGKLPVPWPTLVTTFSYGVQCFSRYPDHMKRHDFFKSAMPEGYVQ-ERTIFFKDDGNYKTRA-EVKFEGDTLVNRIELKG-IDFKEDGNILGHKLEYNYNSHNVYIMADKQKNGIKVNFKIRHNIEDGSVQL---A--DHYQQNTPIGDGPV-LLPDNHYLST-QSAL--SKDPNE--KRDHMVLLEFVTAAGIT\n",
      "  Score=31\n",
      "\n"
     ]
    }
   ],
   "source": [
    "##- Importing libraries -##\n",
    "###########################\n",
    "from Bio import pairwise2\n",
    "from Bio import SeqIO\n",
    "from difflib import SequenceMatcher\n",
    "try:\n",
    "    from StringIO import StringIO # Python 2\n",
    "except ImportError:\n",
    "    from io import StringIO # Python 3\n",
    "import itertools\n",
    "\n",
    "#- reading files -##\n",
    "####################\n",
    "all_files = os.listdir(path)\n",
    "files_list = glob.glob('*.txt')\n",
    "\n",
    "#- Sequence match dict -##\n",
    "match_dict = {}\n",
    "#- Sequence matcher all to all -##\n",
    "##################################\n",
    "for i in files_list:\n",
    "    ped_code = i.split('_')[0]\n",
    "    seqs_list = []\n",
    "    for j in all_files:\n",
    "        if j.startswith(ped_code):\n",
    "            if j.endswith('.txt') == False:\n",
    "                seqs_list.append(j)\n",
    "                \n",
    "    ##- All the combinations possible -##\n",
    "    combinations = list(itertools.combinations(seqs_list, 2))\n",
    "    if len(combinations) > 1:\n",
    "        for x in list(set(combinations)):\n",
    "                ##- ratio of coincidence between sequences -##\n",
    "                s = SequenceMatcher(None, data1.seq,data2.seq)\n",
    "                ##- Saving the info in a dict -##\n",
    "                match_dict[x] = s.ratio()\n",
    "\n",
    "#- Pairwise aligments all to all -##\n",
    "####################################\n",
    "for i in files_list:\n",
    "    ped_code = i.split('_')[0]\n",
    "    seqs_list = []\n",
    "    for j in all_files:\n",
    "        if j.startswith(ped_code):\n",
    "            if j.endswith('.txt') == False:\n",
    "                seqs_list.append(j)\n",
    "                \n",
    "    combinations = list(itertools.combinations(seqs_list, 2))                \n",
    "    if len(combinations) > 1:\n",
    "        for x in combinations:\n",
    "            ##-- we take only the combinations including the uniprot seq ref\n",
    "            if '00' in str(x):\n",
    "                #######-- Aligning sequences --########\n",
    "                data1 = SeqIO.read(x[0], \"fasta\")\n",
    "                data2 = SeqIO.read(x[1], \"fasta\")\n",
    "                ##-- Align --##\n",
    "                alignments = pairwise2.align.globalxx(data1.seq,data2.seq)\n",
    "                ##-- Ploting aligments --##\n",
    "                aln = pairwise2.format_alignment(*alignments[0])\n",
    "                #-- Building an output --#\n",
    "                path_out = path +'/'+ x[0].split('_')[0]+x[0].split('_')[-1][-2:] +'-'+ x[1].split('_')[0] + x[1].split('_')[-1][-2:] +'_aln_pair.plot'\n",
    "                path_out_fasta = path +'/'+ x[0].split('_')[0]+x[0].split('_')[-1][-2:] +'-'+ x[1].split('_')[0] + x[1].split('_')[-1][-2:] +'_pair.fasta'\n",
    "                print(path_out_fasta)\n",
    "                print(aln)\n",
    "                ##-- Writing outputs --##\n",
    "                #with open(path_out,'a') as miarch:\n",
    "                    #miarch.write(aln)"
   ]
  },
  {
   "cell_type": "code",
   "execution_count": 47,
   "metadata": {
    "collapsed": false
   },
   "outputs": [
    {
     "ename": "NameError",
     "evalue": "name 'FileExistsError' is not defined",
     "output_type": "error",
     "traceback": [
      "\u001b[0;31m---------------------------------------------------------------------------\u001b[0m",
      "\u001b[0;31mNameError\u001b[0m                                 Traceback (most recent call last)",
      "\u001b[0;32m<ipython-input-47-c4be922eb7e0>\u001b[0m in \u001b[0;36m<module>\u001b[0;34m()\u001b[0m\n\u001b[1;32m      7\u001b[0m     \u001b[0mos\u001b[0m\u001b[0;34m.\u001b[0m\u001b[0mmkdir\u001b[0m\u001b[0;34m(\u001b[0m\u001b[0mdirName\u001b[0m\u001b[0;34m)\u001b[0m\u001b[0;34m\u001b[0m\u001b[0m\n\u001b[1;32m      8\u001b[0m     \u001b[0;32mprint\u001b[0m\u001b[0;34m(\u001b[0m\u001b[0;34m\"Directory \"\u001b[0m \u001b[0;34m+\u001b[0m \u001b[0mdirName\u001b[0m \u001b[0;34m+\u001b[0m \u001b[0;34m\" Created \"\u001b[0m\u001b[0;34m)\u001b[0m\u001b[0;34m\u001b[0m\u001b[0m\n\u001b[0;32m----> 9\u001b[0;31m \u001b[0;32mexcept\u001b[0m \u001b[0mFileExistsError\u001b[0m\u001b[0;34m:\u001b[0m\u001b[0;34m\u001b[0m\u001b[0m\n\u001b[0m\u001b[1;32m     10\u001b[0m     \u001b[0;32mprint\u001b[0m\u001b[0;34m(\u001b[0m\u001b[0;34m\"Directory \"\u001b[0m \u001b[0;34m+\u001b[0m \u001b[0mdirName\u001b[0m \u001b[0;34m+\u001b[0m  \u001b[0;34m\" already exists\"\u001b[0m\u001b[0;34m)\u001b[0m\u001b[0;34m\u001b[0m\u001b[0m\n\u001b[1;32m     11\u001b[0m \u001b[0;34m\u001b[0m\u001b[0m\n",
      "\u001b[0;31mNameError\u001b[0m: name 'FileExistsError' is not defined"
     ]
    }
   ],
   "source": [
    "#########################################\n",
    "##-- Moving files to a new directory --##\n",
    "#########################################\n",
    "dirName = 'pairwise_alig_plot'\n",
    "try:\n",
    "    # Create target Directory\n",
    "    os.mkdir(dirName)\n",
    "    print(\"Directory \" + dirName + \" Created \") \n",
    "except FileExistsError:\n",
    "    print(\"Directory \" + dirName +  \" already exists\")\n",
    "\n",
    "###########################\n",
    "##-- Moving plot files --##    \n",
    "source = path +'/'\n",
    "dest1 = path + '/' + dirName\n",
    "\n",
    "##-- Listing files --##\n",
    "files = glob.glob('*.plot')\n",
    "##-- Moving files --##\n",
    "import shutil\n",
    "for f in files:\n",
    "        shutil.move(source + f, dest1)\n",
    "print('All the plot files were moved correctly')"
   ]
  },
  {
   "cell_type": "code",
   "execution_count": 48,
   "metadata": {
    "collapsed": true
   },
   "outputs": [],
   "source": [
    "##- Importing libraries -##\n",
    "############################\n",
    "import itertools\n",
    "import os\n",
    "import subprocess"
   ]
  },
  {
   "cell_type": "code",
   "execution_count": 49,
   "metadata": {
    "collapsed": false
   },
   "outputs": [
    {
     "ename": "IndentationError",
     "evalue": "expected an indented block (<ipython-input-49-4d516b6ade26>, line 5)",
     "output_type": "error",
     "traceback": [
      "\u001b[0;36m  File \u001b[0;32m\"<ipython-input-49-4d516b6ade26>\"\u001b[0;36m, line \u001b[0;32m5\u001b[0m\n\u001b[0;31m    for i in list_fasta_seq:\u001b[0m\n\u001b[0m                            ^\u001b[0m\n\u001b[0;31mIndentationError\u001b[0m\u001b[0;31m:\u001b[0m expected an indented block\n"
     ]
    }
   ],
   "source": [
    "##-- Listing fasta files --##\n",
    "list_fasta_seq = glob.glob('*.txt')\n",
    "\n",
    "##-- Runing clustal --##\n",
    "for i in list_fasta_seq:"
   ]
  },
  {
   "cell_type": "code",
   "execution_count": null,
   "metadata": {
    "collapsed": true
   },
   "outputs": [],
   "source": []
  },
  {
   "cell_type": "code",
   "execution_count": null,
   "metadata": {
    "collapsed": true
   },
   "outputs": [],
   "source": []
  },
  {
   "cell_type": "code",
   "execution_count": null,
   "metadata": {
    "collapsed": true
   },
   "outputs": [],
   "source": [
    "\n"
   ]
  }
 ],
 "metadata": {
  "kernelspec": {
   "display_name": "Python 2",
   "language": "python",
   "name": "python2"
  },
  "language_info": {
   "codemirror_mode": {
    "name": "ipython",
    "version": 2
   },
   "file_extension": ".py",
   "mimetype": "text/x-python",
   "name": "python",
   "nbconvert_exporter": "python",
   "pygments_lexer": "ipython2",
   "version": "2.7.13"
  }
 },
 "nbformat": 4,
 "nbformat_minor": 2
}
