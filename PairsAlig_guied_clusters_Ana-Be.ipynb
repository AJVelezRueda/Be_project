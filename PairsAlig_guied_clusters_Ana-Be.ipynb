{
 "cells": [
  {
   "cell_type": "markdown",
   "metadata": {},
   "source": [
    "############################\n",
    "##- Installing libraries -##\n",
    "#--------- Python 3 -------#\n",
    "############################\n",
    "try:\n",
    "    from pip import main as pipmain\n",
    "except:\n",
    "    from pip._internal import main as pipmain\n",
    "\n",
    "def install(package):\n",
    "    pipmain(['install', \"--upgrade\", \"pip\"])\n",
    "    if hasattr(pip, 'main'):\n",
    "        pip.main(['install', package])\n",
    "    else:\n",
    "        try:\n",
    "            pip._internal.main(['install', package])\n",
    "        except:\n",
    "            print(pip._internal.main(['install', package]))\n",
    "\n",
    "###########################\n",
    "##- Installing Biopython-##\n",
    "###########################\n",
    "if _name_ == '_main_':\n",
    "    install('biopython')"
   ]
  },
  {
   "cell_type": "code",
   "execution_count": 2,
   "metadata": {
    "collapsed": false
   },
   "outputs": [
    {
     "name": "stdout",
     "output_type": "stream",
     "text": [
      "Collecting biopython\n",
      "  Downloading https://files.pythonhosted.org/packages/e5/3c/1aae19dc685dab77ccd0adfded6bba93821619ad6c57766b349d61cbe61b/biopython-1.72-cp27-cp27mu-manylinux1_x86_64.whl (2.1MB)\n",
      "Requirement already satisfied: numpy in /home/anajulia/anaconda2/lib/python2.7/site-packages (from biopython) (1.11.3)\n",
      "Installing collected packages: biopython\n",
      "Successfully installed biopython-1.72\n"
     ]
    }
   ],
   "source": [
    "############################\n",
    "##- Installing libraries -##\n",
    "##------- Python 2 -------##\n",
    "############################\n",
    "import pip\n",
    "\n",
    "def install(package):\n",
    "    if hasattr(pip, 'main'):\n",
    "        pip.main(['install', package])\n",
    "    else:\n",
    "        pip._internal.main(['install', package])\n",
    "\n",
    "###########################\n",
    "##- Installing Biopython-##\n",
    "###########################\n",
    "if __name__ == '__main__':\n",
    "    install('biopython')"
   ]
  },
  {
   "cell_type": "code",
   "execution_count": 30,
   "metadata": {
    "collapsed": false
   },
   "outputs": [
    {
     "name": "stdout",
     "output_type": "stream",
     "text": [
      "clustalw is ready to use\n"
     ]
    }
   ],
   "source": [
    "###################################################\n",
    "##-- checking if clustalw is already installed --##\n",
    "#  Source: https://askubuntu.com/questions/35744  #\n",
    "###################################################\n",
    "\n",
    "##-- def query_package --##\n",
    "import os.path\n",
    "path = '/usr/bin/clustalw'\n",
    "def query_package(path):\n",
    "    if os.path.exists(path):\n",
    "        return 'clustalw is ready to use'\n",
    "    else:\n",
    "        return 'please install clustalw'\n",
    "\n",
    "##-- def _install_clustalw --##\n",
    "def _install_clustalw():\n",
    "    subprocess.call(\"sudo get install clustalw\", shell=True)\n",
    "\n",
    "##-- check point --##\n",
    "if query_package(path) == \"clustalw is ready to use\":\n",
    "    print('clustalw is ready to use')\n",
    "    pass\n",
    "else:\n",
    "    print('Installing clustalw')\n",
    "    _intall_clustal()\n",
    "    print('Done')"
   ]
  },
  {
   "cell_type": "code",
   "execution_count": 2,
   "metadata": {
    "collapsed": false
   },
   "outputs": [],
   "source": [
    "### IMPORTANT DATA INFO:this script takes '.txt' files with fasta sequences of an ensemble of proteins\n",
    "## IMPORTANT DATA INFO: The reference sequence must be the first file sequence \n",
    "## IMPORTANT DATA INFO: clusters_reports are needed\n",
    "#############################################################################################################\n",
    "\n",
    "##- Importing linbraries -##\n",
    "############################\n",
    "import os\n",
    "import glob\n",
    "import subprocess\n",
    "\n",
    "#- Setting the working directory -##\n",
    "####################################\n",
    "path = '/home/anajulia/Be_project/Data/fastasequences'\n",
    "os.chdir(path)"
   ]
  },
  {
   "cell_type": "code",
   "execution_count": 12,
   "metadata": {
    "collapsed": false
   },
   "outputs": [],
   "source": [
    "#- Spliting sequences into separates files -##\n",
    "##############################################\n",
    "files_list = glob.glob('*.txt')\n",
    "for i in files_list:\n",
    "    subprocess.call(['split','-l2','-d',i,i.split('_')[0]+'_sequence.'])"
   ]
  },
  {
   "cell_type": "code",
   "execution_count": 11,
   "metadata": {
    "collapsed": false
   },
   "outputs": [],
   "source": [
    "##- Importing libraries -##\n",
    "###########################\n",
    "from Bio import pairwise2\n",
    "from Bio import SeqIO\n",
    "from difflib import SequenceMatcher\n",
    "try:\n",
    "    from StringIO import StringIO # Python 2\n",
    "except ImportError:\n",
    "    from io import StringIO # Python 3\n",
    "import itertools\n",
    "\n",
    "#- reading files -##\n",
    "####################\n",
    "all_files = os.listdir(path)\n",
    "files_list = glob.glob('*.txt')\n",
    "\n",
    "#- clusters -#\n",
    "##############\n",
    "path_clust = path + '/clustrs_reports/*'\n",
    "clust_list = glob.glob(path_clust)"
   ]
  },
  {
   "cell_type": "code",
   "execution_count": 13,
   "metadata": {
    "collapsed": false
   },
   "outputs": [
    {
     "name": "stdout",
     "output_type": "stream",
     "text": [
      "PED3AAA 3 clusters were found\n",
      "Clusters seqRef PED3AAA_1_C, PED3AAA_1_B, PED3AAA_1_A\n",
      ">Cluster 0\n",
      "0\t319aa, >PED3AAA_1_C... *\n",
      ">Cluster 1\n",
      "0\t230aa, >PED3AAA_1_B... *\n",
      "1\t230aa, >PED3AAA_1_D... at 100.00%\n",
      ">Cluster 2\n",
      "0\t46aa, >PED3AAA_1_A... *\n",
      "\n",
      "PED1AAA 2 clusters were found\n",
      "Clusters seqRef PED1AAA_1_A\n",
      ">Cluster 0\n",
      "0\t92aa, >PED1AAA_1_A... *\n",
      "1\t92aa, >PED1AAA_2_A... at 100.00%\n",
      "2\t92aa, >PED1AAA_3_A... at 100.00%\n",
      ">Cluster 1\n",
      "0\t90aa, >P38634... *\n",
      "\n",
      "PED1AAD 1 cluster was found\n",
      ">Cluster 0\n",
      "0\t134aa, >PED1AAD_1_A... *\n",
      "\n",
      "PED2AAA 2 clusters were found\n",
      "Clusters seqRef PED2AAA_1_A\n",
      ">Cluster 0\n",
      "0\t69aa, >O43806... *\n",
      ">Cluster 1\n",
      "0\t69aa, >PED2AAA_1_A... *\n",
      "\n",
      "PED4AAA 3 clusters were found\n",
      "Clusters seqRef PED4AAA_1_C, PED4AAA_1_B, PED4AAA_1_A\n",
      ">Cluster 0\n",
      "0\t319aa, >PED4AAA_1_C... *\n",
      ">Cluster 1\n",
      "0\t230aa, >PED4AAA_1_B... *\n",
      "1\t230aa, >PED4AAA_1_D... at 100.00%\n",
      ">Cluster 2\n",
      "0\t46aa, >PED4AAA_1_A... *\n",
      "\n",
      "PED3AAD 1 cluster was found\n",
      ">Cluster 0\n",
      "0\t71aa, >PED3AAD_1_A... *\n",
      "\n",
      "PED2AAD 1 cluster was found\n",
      ">Cluster 0\n",
      "0\t145aa, >PED2AAD_1_A... *\n",
      "\n",
      "PED2AAB 1 cluster was found\n",
      ">Cluster 0\n",
      "0\t137aa, >PED2AAB_1_A... *\n",
      "1\t137aa, >PED2AAB_1_B... at 100.00%\n",
      "\n",
      "PED3AAB 1 cluster was found\n",
      ">Cluster 0\n",
      "0\t121aa, >PED3AAB_1_A... *\n",
      "1\t88aa, >PED3AAB_1_C... at 100.00%\n",
      "2\t84aa, >PED3AAB_1_B... at 100.00%\n",
      "3\t84aa, >PED3AAB_1_D... at 100.00%\n",
      "\n",
      "PED1AAB 1 cluster was found\n",
      ">Cluster 0\n",
      "0\t104aa, >PED1AAB_1_A... *\n",
      "1\t104aa, >PED1AAB_1_B... at 100.00%\n",
      "\n"
     ]
    }
   ],
   "source": [
    "#- Checking the score in order to know which PEDs we have to be plotted -#\n",
    "#- getting the PEDs ids -#\n",
    "to_be_plotted = []\n",
    "ped_acc = []\n",
    "for i in clust_list:\n",
    "    with open(i,'r') as miarch:\n",
    "        data = miarch.read()\n",
    "        print(data)"
   ]
  },
  {
   "cell_type": "code",
   "execution_count": 67,
   "metadata": {
    "collapsed": false
   },
   "outputs": [],
   "source": [
    "#- Checking the score in order to know which PEDs we have to be plotted -#\n",
    "#- getting the PEDs ids -#\n",
    "to_be_plotted = []\n",
    "ped_acc = []\n",
    "for i in df['Pair'].tolist():\n",
    "    ped_acc.append(i.split('-')[0].split('_')[0])\n",
    "ped_acc = list(set(ped_acc))\n",
    "\n",
    "#- checking whithin ensembles -#\n",
    "pairs_to_plot =  []\n",
    "for i in ped_acc:\n",
    "    pairs = []\n",
    "    for j in df['Pair'].tolist():\n",
    "        if j.startswith(i):\n",
    "            ids = j.split('-')\n",
    "            pairs.append(j)\n",
    "    pairs = list(set(pairs))\n",
    "    for x in range(0,len(pairs)):\n",
    "        if '01' in pairs[x]:\n",
    "            for j in pairs[x].replace(' ','').split('-'):\n",
    "                if '00' in j:\n",
    "                    pairs_to_plot.append(pairs[x])\n",
    "                if '01' not in j:\n",
    "                    if '00' not in j:\n",
    "                        if df[df['Pair'] == pairs[x]]['match_score'].iloc[0] < 1:\n",
    "                            pairs_to_plot.append(pairs[x])"
   ]
  },
  {
   "cell_type": "code",
   "execution_count": 86,
   "metadata": {
    "collapsed": false
   },
   "outputs": [],
   "source": [
    "######################################\n",
    "##-- Creating the a new directory --##\n",
    "######################################\n",
    "dirName = 'pairwise_alig_plot'\n",
    "try:\n",
    "    # Create target Directory\n",
    "    os.mkdir(dirName)\n",
    "    print(\"Directory \" + dirName + \" Created \") \n",
    "except FileExistsError:\n",
    "    print(\"Directory \" + dirName +  \" already exists\")\n",
    "\n",
    "#- Aligment plots -#\n",
    "####################\n",
    "for i in pairs_to_plot:\n",
    "    seq1 = i.replace(' ','').split('-')[0]\n",
    "    seq2 = i.replace(' ','').split('-')[1]\n",
    "    #######-- Aligning sequences --########\n",
    "    data1 = SeqIO.read(seq1, \"fasta\")\n",
    "    data2 = SeqIO.read(seq2, \"fasta\")\n",
    "    ##-- Align --##\n",
    "    alignments = pairwise2.align.globalxx(data1.seq,data2.seq)\n",
    "    ##-- Ploting aligments --##\n",
    "    aln = pairwise2.format_alignment(*alignments[0])\n",
    "    #-- Building an output --#\n",
    "    path_out = path +'/pairwise_alig_plot/'+ seq1.split('_')[0] + seq1.split('_')[-1][-2:] +'-'+ seq2.split('_')[0] + seq2.split('_')[-1][-2:] +'_aln_pair.plot'\n",
    "    path_out_fasta = path +'/'+ seq1.split('_')[0]+ seq1 .split('_')[-1][-2:] +'-'+ seq2.split('_')[0] + seq2.split('_')[-1][-2:] +'_pair.fasta'\n",
    "    ##-- Writing outputs --##\n",
    "    with open(path_out,'a') as miarch:\n",
    "        miarch.write(aln)"
   ]
  }
 ],
 "metadata": {
  "kernelspec": {
   "display_name": "Python 2",
   "language": "python",
   "name": "python2"
  },
  "language_info": {
   "codemirror_mode": {
    "name": "ipython",
    "version": 2
   },
   "file_extension": ".py",
   "mimetype": "text/x-python",
   "name": "python",
   "nbconvert_exporter": "python",
   "pygments_lexer": "ipython2",
   "version": "2.7.13"
  }
 },
 "nbformat": 4,
 "nbformat_minor": 2
}
