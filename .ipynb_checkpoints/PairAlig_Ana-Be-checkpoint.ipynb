{
 "cells": [
  {
   "cell_type": "markdown",
   "metadata": {},
   "source": [
    "############################\n",
    "##- Installing libraries -##\n",
    "#--------- Python 3 -------#\n",
    "############################\n",
    "try:\n",
    "    from pip import main as pipmain\n",
    "except:\n",
    "    from pip._internal import main as pipmain\n",
    "\n",
    "def install(package):\n",
    "    pipmain(['install', \"--upgrade\", \"pip\"])\n",
    "    if hasattr(pip, 'main'):\n",
    "        pip.main(['install', package])\n",
    "    else:\n",
    "        try:\n",
    "            pip._internal.main(['install', package])\n",
    "        except:\n",
    "            print(pip._internal.main(['install', package]))\n",
    "\n",
    "###########################\n",
    "##- Installing Biopython-##\n",
    "###########################\n",
    "if _name_ == '_main_':\n",
    "    install('biopython')"
   ]
  },
  {
   "cell_type": "code",
   "execution_count": 2,
   "metadata": {
    "collapsed": false
   },
   "outputs": [
    {
     "name": "stdout",
     "output_type": "stream",
     "text": [
      "Collecting biopython\n",
      "  Downloading https://files.pythonhosted.org/packages/e5/3c/1aae19dc685dab77ccd0adfded6bba93821619ad6c57766b349d61cbe61b/biopython-1.72-cp27-cp27mu-manylinux1_x86_64.whl (2.1MB)\n",
      "Requirement already satisfied: numpy in /home/anajulia/anaconda2/lib/python2.7/site-packages (from biopython) (1.11.3)\n",
      "Installing collected packages: biopython\n",
      "Successfully installed biopython-1.72\n"
     ]
    }
   ],
   "source": [
    "############################\n",
    "##- Installing libraries -##\n",
    "##------- Python 2 -------##\n",
    "############################\n",
    "import pip\n",
    "\n",
    "def install(package):\n",
    "    if hasattr(pip, 'main'):\n",
    "        pip.main(['install', package])\n",
    "    else:\n",
    "        pip._internal.main(['install', package])\n",
    "\n",
    "###########################\n",
    "##- Installing Biopython-##\n",
    "###########################\n",
    "if __name__ == '__main__':\n",
    "    install('biopython')"
   ]
  },
  {
   "cell_type": "code",
   "execution_count": 38,
   "metadata": {
    "collapsed": false
   },
   "outputs": [],
   "source": [
    "##- Importing linbraries -##\n",
    "############################\n",
    "import os\n",
    "import glob\n",
    "import subprocess\n",
    "\n",
    "#- Setting the working directory -##\n",
    "####################################\n",
    "path = '/home/anajulia/Be_project/fastasequences'\n",
    "os.chdir(path)"
   ]
  },
  {
   "cell_type": "code",
   "execution_count": 12,
   "metadata": {
    "collapsed": false
   },
   "outputs": [],
   "source": [
    "#- Spliting sequences into separates files -##\n",
    "##############################################\n",
    "files_list = glob.glob('*.txt')\n",
    "for i in files_list:\n",
    "    subprocess.call(['split','-l2','-d',i,i.split('_')[0]+'_sequence.'])"
   ]
  },
  {
   "cell_type": "code",
   "execution_count": 45,
   "metadata": {
    "collapsed": false
   },
   "outputs": [
    {
     "name": "stdout",
     "output_type": "stream",
     "text": [
      "/home/anajulia/Be_project/fastasequences/PED3AAB02-PED3AAB00_pair.fasta\n",
      "/home/anajulia/Be_project/fastasequences/PED3AAB01-PED3AAB00_pair.fasta\n",
      "/home/anajulia/Be_project/fastasequences/PED3AAB03-PED3AAB00_pair.fasta\n",
      "/home/anajulia/Be_project/fastasequences/PED1AAA00-PED1AAA03_pair.fasta\n",
      "/home/anajulia/Be_project/fastasequences/PED1AAA00-PED1AAA02_pair.fasta\n",
      "/home/anajulia/Be_project/fastasequences/PED1AAA00-PED1AAA01_pair.fasta\n",
      "/home/anajulia/Be_project/fastasequences/PED3AAA02-PED3AAA00_pair.fasta\n",
      "/home/anajulia/Be_project/fastasequences/PED3AAA01-PED3AAA00_pair.fasta\n",
      "/home/anajulia/Be_project/fastasequences/PED3AAA00-PED3AAA03_pair.fasta\n",
      "/home/anajulia/Be_project/fastasequences/PED4AAA00-PED4AAA01_pair.fasta\n",
      "/home/anajulia/Be_project/fastasequences/PED4AAA00-PED4AAA03_pair.fasta\n",
      "/home/anajulia/Be_project/fastasequences/PED4AAA00-PED4AAA02_pair.fasta\n"
     ]
    }
   ],
   "source": [
    "##- Importing libraries -##\n",
    "############################\n",
    "from Bio import pairwise2\n",
    "from Bio import SeqIO\n",
    "from Bio.Phylo.TreeConstruction import DistanceCalculator\n",
    "try:\n",
    "    from StringIO import StringIO # Python 2\n",
    "except ImportError:\n",
    "    from io import StringIO # Python 3\n",
    "import itertools\n",
    "\n",
    "#- reading files -##\n",
    "####################\n",
    "all_files = os.listdir(path)\n",
    "files_list = glob.glob('*.txt')\n",
    "\n",
    "#- Pairwise aligments all to all -##\n",
    "####################################\n",
    "for i in files_list:\n",
    "    ped_code = i.split('_')[0]\n",
    "    seqs_list = []\n",
    "    for j in all_files:\n",
    "        if j.startswith(ped_code):\n",
    "            if j.endswith('.txt') == False:\n",
    "                seqs_list.append(j)\n",
    "                \n",
    "    combinations = list(itertools.combinations(seqs_list, 2))\n",
    "    if len(combinations) > 1:\n",
    "        for x in combinations:\n",
    "            ##-- we take only the combinations including the uniprot seq ref\n",
    "            if '00' in str(x):\n",
    "                #######-- Aligning sequences --########\n",
    "                data1 = SeqIO.read(x[0], \"fasta\")\n",
    "                data2 = SeqIO.read(x[1], \"fasta\")\n",
    "                ##-- Align --##\n",
    "                alignments = pairwise2.align.globalxx(data1.seq,data2.seq)\n",
    "                ##-- Ploting aligments --##\n",
    "                aln = pairwise2.format_alignment(*alignments[0])\n",
    "                #-- Building an output --#\n",
    "                path_out = path +'/'+ x[0].split('_')[0]+x[0].split('_')[-1][-2:] +'-'+ x[1].split('_')[0] + x[1].split('_')[-1][-2:] +'_aln_pair.plot'\n",
    "                path_out_fasta = path +'/'+ x[0].split('_')[0]+x[0].split('_')[-1][-2:] +'-'+ x[1].split('_')[0] + x[1].split('_')[-1][-2:] +'_pair.fasta'\n",
    "                print(path_out_fasta)\n",
    "                ##-- Writing outputs --##\n",
    "                #with open(path_out,'a') as miarch:\n",
    "                    #miarch.write(aln)"
   ]
  },
  {
   "cell_type": "code",
   "execution_count": null,
   "metadata": {
    "collapsed": true
   },
   "outputs": [],
   "source": [
    "#########################################\n",
    "##-- Moving files to a new directory --##\n",
    "#########################################\n",
    "dirName = 'pairwise_alig_plot'\n",
    "try:\n",
    "    # Create target Directory\n",
    "    os.mkdir(dirName)\n",
    "    print(\"Directory \" + dirName + \" Created \") \n",
    "except FileExistsError:\n",
    "    print(\"Directory \" + dirName +  \" already exists\")\n",
    "\n",
    "###########################\n",
    "##-- Moving plot files --##    \n",
    "source = path +'/'\n",
    "dest1 = path + '/' + dirName\n",
    "\n",
    "##-- Listing files --##\n",
    "files = glob.glob('*.plot')\n",
    "##-- Moving files --##\n",
    "import shutil\n",
    "for f in files:\n",
    "        shutil.move(source + f, dest1)\n",
    "print('All the plot files were moved correctly')"
   ]
  },
  {
   "cell_type": "code",
   "execution_count": 21,
   "metadata": {
    "collapsed": true
   },
   "outputs": [],
   "source": [
    "##- Importing libraries -##\n",
    "############################\n",
    "import itertools\n",
    "import os\n",
    "import subprocess"
   ]
  },
  {
   "cell_type": "code",
   "execution_count": 30,
   "metadata": {
    "collapsed": false
   },
   "outputs": [
    {
     "name": "stdout",
     "output_type": "stream",
     "text": [
      "clustalw is ready to use\n"
     ]
    }
   ],
   "source": [
    "###################################################\n",
    "##-- checking if clustalw is already installed --##\n",
    "#  Source: https://askubuntu.com/questions/35744  #\n",
    "###################################################\n",
    "\n",
    "##-- def query_package --##\n",
    "import os.path\n",
    "path = '/usr/bin/clustalw'\n",
    "def query_package(path):\n",
    "    if os.path.exists(path):\n",
    "        return 'clustalw is ready to use'\n",
    "    else:\n",
    "        return 'please install clustalw'\n",
    "\n",
    "##-- def _install_clustalw --##\n",
    "def _install_clustalw():\n",
    "    subprocess.call(\"sudo get install clustalw\", shell=True)\n",
    "\n",
    "##-- check point --##\n",
    "if query_package(path) == \"clustalw is ready to use\":\n",
    "    print('clustalw is ready to use')\n",
    "    pass\n",
    "else:\n",
    "    print('Installing clustalw')\n",
    "    _intall_clustal()\n",
    "    print('Done')"
   ]
  },
  {
   "cell_type": "code",
   "execution_count": 36,
   "metadata": {
    "collapsed": false
   },
   "outputs": [
    {
     "name": "stdout",
     "output_type": "stream",
     "text": [
      "<open file 'PED2AAB_all_sequence.txt', mode 'rU' at 0x7f1ab7888db0>\n",
      "<open file 'PED3AAB_all_sequence.txt', mode 'rU' at 0x7f1ab78230c0>\n",
      "<open file 'PED1AAA_all_sequence.txt', mode 'rU' at 0x7f1ab7888db0>\n",
      "<open file 'PED2AAA_all_sequence.txt', mode 'rU' at 0x7f1ab78230c0>\n",
      "<open file 'PED2AAD_all_sequence.txt', mode 'rU' at 0x7f1ab7888db0>\n",
      "<open file 'PED1AAD_all_sequence.txt', mode 'rU' at 0x7f1ab78230c0>\n",
      "<open file 'PED1AAB_all_sequence.txt', mode 'rU' at 0x7f1ab7888db0>\n",
      "<open file 'PED3AAA_all_sequence.txt', mode 'rU' at 0x7f1ab78230c0>\n",
      "<open file 'PED3AAD_all_sequence.txt', mode 'rU' at 0x7f1ab7888db0>\n",
      "<open file 'PED4AAA_all_sequence.txt', mode 'rU' at 0x7f1ab78230c0>\n"
     ]
    }
   ],
   "source": [
    "##-- Listing fasta files --##\n",
    "list_fasta_seq = glob.glob('*.txt')\n",
    "\n",
    "##-- Runing clustal --##\n",
    "for i in list_fasta_seq:"
   ]
  },
  {
   "cell_type": "code",
   "execution_count": null,
   "metadata": {
    "collapsed": true
   },
   "outputs": [],
   "source": []
  }
 ],
 "metadata": {
  "kernelspec": {
   "display_name": "Python 2",
   "language": "python",
   "name": "python2"
  },
  "language_info": {
   "codemirror_mode": {
    "name": "ipython",
    "version": 2
   },
   "file_extension": ".py",
   "mimetype": "text/x-python",
   "name": "python",
   "nbconvert_exporter": "python",
   "pygments_lexer": "ipython2",
   "version": "2.7.13"
  }
 },
 "nbformat": 4,
 "nbformat_minor": 2
}
