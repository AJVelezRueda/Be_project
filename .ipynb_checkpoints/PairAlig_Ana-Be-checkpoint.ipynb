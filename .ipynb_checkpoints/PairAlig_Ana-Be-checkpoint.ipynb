{
 "cells": [
  {
   "cell_type": "markdown",
   "metadata": {},
   "source": [
    "############################\n",
    "##- Installing libraries -##\n",
    "#--------- Python 3 -------#\n",
    "############################\n",
    "try:\n",
    "    from pip import main as pipmain\n",
    "except:\n",
    "    from pip._internal import main as pipmain\n",
    "\n",
    "def install(package):\n",
    "    pipmain(['install', \"--upgrade\", \"pip\"])\n",
    "    if hasattr(pip, 'main'):\n",
    "        pip.main(['install', package])\n",
    "    else:\n",
    "        try:\n",
    "            pip._internal.main(['install', package])\n",
    "        except:\n",
    "            print(pip._internal.main(['install', package]))\n",
    "\n",
    "###########################\n",
    "##- Installing Biopython-##\n",
    "###########################\n",
    "if _name_ == '_main_':\n",
    "    install('biopython')"
   ]
  },
  {
   "cell_type": "code",
   "execution_count": 2,
   "metadata": {
    "collapsed": false
   },
   "outputs": [
    {
     "name": "stdout",
     "output_type": "stream",
     "text": [
      "Collecting biopython\n",
      "  Downloading https://files.pythonhosted.org/packages/e5/3c/1aae19dc685dab77ccd0adfded6bba93821619ad6c57766b349d61cbe61b/biopython-1.72-cp27-cp27mu-manylinux1_x86_64.whl (2.1MB)\n",
      "Requirement already satisfied: numpy in /home/anajulia/anaconda2/lib/python2.7/site-packages (from biopython) (1.11.3)\n",
      "Installing collected packages: biopython\n",
      "Successfully installed biopython-1.72\n"
     ]
    }
   ],
   "source": [
    "############################\n",
    "##- Installing libraries -##\n",
    "##------- Python 2 -------##\n",
    "############################\n",
    "import pip\n",
    "\n",
    "def install(package):\n",
    "    if hasattr(pip, 'main'):\n",
    "        pip.main(['install', package])\n",
    "    else:\n",
    "        pip._internal.main(['install', package])\n",
    "\n",
    "###########################\n",
    "##- Installing Biopython-##\n",
    "###########################\n",
    "if __name__ == '__main__':\n",
    "    install('biopython')"
   ]
  },
  {
   "cell_type": "code",
   "execution_count": 40,
   "metadata": {
    "collapsed": true
   },
   "outputs": [],
   "source": [
    "#- Setting the working directory -##\n",
    "####################################\n",
    "path = '/home/anajulia/Be_project/fastasequences'\n",
    "os.chdir(path)"
   ]
  },
  {
   "cell_type": "code",
   "execution_count": 41,
   "metadata": {
    "collapsed": false
   },
   "outputs": [],
   "source": [
    "##- Importing linbraries -##\n",
    "############################\n",
    "import os\n",
    "import glob\n",
    "import subprocess\n",
    "\n",
    "#- Spliting sequences into separates files -##\n",
    "##############################################\n",
    "files_list = glob.glob('*.txt')\n",
    "for i in files_list:\n",
    "    subprocess.call(['split','-l2','-d',i,i.split('_')[0]+'_sequence.'])"
   ]
  },
  {
   "cell_type": "code",
   "execution_count": 60,
   "metadata": {
    "collapsed": false
   },
   "outputs": [
    {
     "name": "stdout",
     "output_type": "stream",
     "text": [
      "('PED2AAB_sequence.00', 'PED2AAB_sequence.01')\n",
      "('PED3AAB_sequence.02', 'PED3AAB_sequence.01')\n",
      "('PED3AAB_sequence.02', 'PED3AAB_sequence.03')\n",
      "('PED3AAB_sequence.02', 'PED3AAB_sequence.00')\n",
      "('PED3AAB_sequence.01', 'PED3AAB_sequence.03')\n",
      "('PED3AAB_sequence.01', 'PED3AAB_sequence.00')\n",
      "('PED3AAB_sequence.03', 'PED3AAB_sequence.00')\n",
      "('PED1AAA_sequence.00', 'PED1AAA_sequence.03')\n",
      "('PED1AAA_sequence.00', 'PED1AAA_sequence.02')\n",
      "('PED1AAA_sequence.00', 'PED1AAA_sequence.01')\n",
      "('PED1AAA_sequence.03', 'PED1AAA_sequence.02')\n",
      "('PED1AAA_sequence.03', 'PED1AAA_sequence.01')\n",
      "('PED1AAA_sequence.02', 'PED1AAA_sequence.01')\n",
      "('PED2AAA_sequence.00', 'PED2AAA_sequence.01')\n",
      "('PED1AAB_sequence.01', 'PED1AAB_sequence.00')\n",
      "('PED3AAA_sequence.02', 'PED3AAA_sequence.01')\n",
      "('PED3AAA_sequence.02', 'PED3AAA_sequence.00')\n",
      "('PED3AAA_sequence.02', 'PED3AAA_sequence.03')\n",
      "('PED3AAA_sequence.01', 'PED3AAA_sequence.00')\n",
      "('PED3AAA_sequence.01', 'PED3AAA_sequence.03')\n",
      "('PED3AAA_sequence.00', 'PED3AAA_sequence.03')\n",
      "('PED4AAA_sequence.00', 'PED4AAA_sequence.01')\n",
      "('PED4AAA_sequence.00', 'PED4AAA_sequence.03')\n",
      "('PED4AAA_sequence.00', 'PED4AAA_sequence.02')\n",
      "('PED4AAA_sequence.01', 'PED4AAA_sequence.03')\n",
      "('PED4AAA_sequence.01', 'PED4AAA_sequence.02')\n",
      "('PED4AAA_sequence.03', 'PED4AAA_sequence.02')\n"
     ]
    }
   ],
   "source": [
    "##- Importing linbraries -##\n",
    "############################\n",
    "from Bio import pairwise2\n",
    "from Bio import SeqIO\n",
    "import itertools\n",
    "\n",
    "#- reading files -##\n",
    "####################\n",
    "all_files = os.listdir(path)\n",
    "files_list = glob.glob('*.txt')\n",
    "\n",
    "#- Pairwise aligments all to all -##\n",
    "####################################\n",
    "for i in files_list:\n",
    "    ped_code = i.split('_')[0]\n",
    "    seqs_list = []\n",
    "    for j in all_files:\n",
    "        if j.startswith(ped_code):\n",
    "            if j.endswith('.txt') == False:\n",
    "                seqs_list.append(j)\n",
    "    \n",
    "    combinations = list(itertools.combinations(seqs_list, 2))\n",
    "    for x in combinations:\n",
    "        print(x)"
   ]
  },
  {
   "cell_type": "markdown",
   "metadata": {},
   "source": [
    "seq1 = SeqIO.read(\"alpha.faa\", \"fasta\")\n",
    "seq2 = SeqIO.read(\"beta.faa\", \"fasta\")\n",
    "alignments = pairwise2.align.globalxx(seq1.seq, seq2.seq)\n",
    "print(pairwise2.format_alignment(*alignment[0]))"
   ]
  },
  {
   "cell_type": "code",
   "execution_count": null,
   "metadata": {
    "collapsed": true
   },
   "outputs": [],
   "source": []
  }
 ],
 "metadata": {
  "kernelspec": {
   "display_name": "Python 2",
   "language": "python",
   "name": "python2"
  },
  "language_info": {
   "codemirror_mode": {
    "name": "ipython",
    "version": 2
   },
   "file_extension": ".py",
   "mimetype": "text/x-python",
   "name": "python",
   "nbconvert_exporter": "python",
   "pygments_lexer": "ipython2",
   "version": "2.7.13"
  }
 },
 "nbformat": 4,
 "nbformat_minor": 2
}
