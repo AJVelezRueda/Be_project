{
 "cells": [
  {
   "cell_type": "markdown",
   "metadata": {},
   "source": [
    "#############################\n",
    "#. RG qualification report -#\n",
    "#############################\n",
    "\n",
    "This program takes the Crysol output parsed: it works with the files contained in the Rg folder: \"-Rg-Dmax-mean.txt\" and \"rg.lits_ens\" files are used. \n",
    "This scripts also use as an input the all_fasta_sequences file. The theorical Rg value describing the native folded behaivor was calculated using the Wilkins formula (Wilkins et al. 1999).\n",
    "The theorical Rg value describing the intrinsically disordered behavior was calculated using the Wilkins formula (Wilkins et al. 1999). The lenght of the ensembles was calculated using the sum of all the chain lengths, calculated from their sequences. \n",
    "R0 and v values were 2.54 and 0.522 respectively."
   ]
  },
  {
   "cell_type": "code",
   "execution_count": 2,
   "metadata": {
    "collapsed": true
   },
   "outputs": [],
   "source": [
    "#########################\n",
    "#- importing libraries -#\n",
    "import pandas as pd\n",
    "\n",
    "##################\n",
    "#- seting paths -#\n",
    "path_main = '/home/anajulia/Be_project/Data'\n",
    "path_data = path_main + '/PED-DB3'"
   ]
  },
  {
   "cell_type": "code",
   "execution_count": 8,
   "metadata": {
    "collapsed": false
   },
   "outputs": [],
   "source": [
    "####################\n",
    "#- setting paths -#\n",
    "df = pd.read_csv(path_main + '/general_paths_to_data', sep='\\t')\n",
    "PEDs = list(df)"
   ]
  },
  {
   "cell_type": "code",
   "execution_count": 35,
   "metadata": {
    "collapsed": false
   },
   "outputs": [],
   "source": [
    "###############################################\n",
    "##--- getting the ensemble sum of lengths --##\n",
    "PEDs_dict = {}\n",
    "for i in PEDs:\n",
    "    fasta_file = df[i].tolist()[1].replace(\"['\",\"\").replace(\"']\",\"\")\n",
    "    lengths_sums = 0\n",
    "    if fasta_file != '[]':\n",
    "        with open(fasta_file,'r') as miarch:\n",
    "            data = miarch.read().split('\\n>')\n",
    "            for j in data:\n",
    "                lengths_sums = lengths_sums + len(j.split('\\n')[1])\n",
    "    PEDs_dict[i] = lengths_sums"
   ]
  },
  {
   "cell_type": "code",
   "execution_count": 36,
   "metadata": {
    "collapsed": false
   },
   "outputs": [
    {
     "data": {
      "text/plain": [
       "{'PED1AAA': 366,\n",
       " 'PED1AAB': 208,\n",
       " 'PED1AAD': 0,\n",
       " 'PED2AAA': 138,\n",
       " 'PED2AAB': 274,\n",
       " 'PED2AAD': 145,\n",
       " 'PED3AAA': 825,\n",
       " 'PED3AAB': 377,\n",
       " 'PED3AAD': 71,\n",
       " 'PED4AAA': 825,\n",
       " 'PED4AAB': 0}"
      ]
     },
     "execution_count": 36,
     "metadata": {},
     "output_type": "execute_result"
    }
   ],
   "source": [
    "PEDs_dict"
   ]
  },
  {
   "cell_type": "code",
   "execution_count": null,
   "metadata": {
    "collapsed": true
   },
   "outputs": [],
   "source": []
  }
 ],
 "metadata": {
  "kernelspec": {
   "display_name": "Python 2",
   "language": "python",
   "name": "python2"
  },
  "language_info": {
   "codemirror_mode": {
    "name": "ipython",
    "version": 2
   },
   "file_extension": ".py",
   "mimetype": "text/x-python",
   "name": "python",
   "nbconvert_exporter": "python",
   "pygments_lexer": "ipython2",
   "version": "2.7.13"
  }
 },
 "nbformat": 4,
 "nbformat_minor": 2
}
