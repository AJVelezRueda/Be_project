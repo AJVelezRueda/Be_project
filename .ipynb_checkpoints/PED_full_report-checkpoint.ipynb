{
 "cells": [
  {
   "cell_type": "markdown",
   "metadata": {
    "collapsed": true
   },
   "source": [
    "############################\n",
    "##- Installing libraries -##\n",
    "##------- Python 2 -------##\n",
    "############################\n",
    "import pip\n",
    "\n",
    "def install(package):\n",
    "    if hasattr(pip, 'main'):\n",
    "        pip.main(['install', package])\n",
    "    else:\n",
    "        pip._internal.main(['install', package])\n",
    "\n",
    "###########################\n",
    "##- Installing Biopython-##\n",
    "###########################\n",
    "if __name__ == '__main__':\n",
    "    install('fpdf')"
   ]
  },
  {
   "cell_type": "code",
   "execution_count": 6,
   "metadata": {
    "collapsed": false
   },
   "outputs": [
    {
     "name": "stdout",
     "output_type": "stream",
     "text": [
      "Requirement already up-to-date: pip in /home/anajulia/anaconda2/lib/python2.7/site-packages (18.1)\n",
      "Collecting fpdf\n",
      "  Downloading https://files.pythonhosted.org/packages/37/c6/608a9e6c172bf9124aa687ec8b9f0e8e5d697d59a5f4fad0e2d5ec2a7556/fpdf-1.7.2.tar.gz\n"
     ]
    },
    {
     "name": "stderr",
     "output_type": "stream",
     "text": [
      "Could not install packages due to an EnvironmentError: [Errno 2] No existe el archivo o el directorio: '/tmp/pip-req-tracker-ZYdCeO/df2de705cba88154046c26b784a8747f7dce594f6f2e0563ca78772f'\n",
      "\n"
     ]
    }
   ],
   "source": [
    "############################\n",
    "##- Installing libraries -##\n",
    "#--------- Python 3 -------#\n",
    "############################\n",
    "try:\n",
    "    from pip import main as pipmain\n",
    "except:\n",
    "    from pip._internal import main as pipmain\n",
    "\n",
    "def install(package):\n",
    "    pipmain(['install', \"--upgrade\", \"pip\"])\n",
    "    if hasattr(pip, 'main'):\n",
    "        pip.main(['install', package])\n",
    "    else:\n",
    "        try:\n",
    "            pip._internal.main(['install', package])\n",
    "        except:\n",
    "            print(pip._internal.main(['install', package]))\n",
    "\n",
    "###########################\n",
    "##- Installing Biopython-##\n",
    "###########################\n",
    "install('fpdf')"
   ]
  },
  {
   "cell_type": "code",
   "execution_count": 2,
   "metadata": {
    "collapsed": true
   },
   "outputs": [],
   "source": [
    "###########################\n",
    "##- Importing libraries -##\n",
    "###########################\n",
    "import os,glob\n",
    "import pandas as pd\n",
    "\n",
    "#################################\n",
    "#- Setting path to main folder -#\n",
    "#################################\n",
    "path_main = '/home/anajulia/Be_project/Data/PED-DB3'\n",
    "\n",
    "#######################\n",
    "#- Searching folders -#\n",
    "#######################\n"
   ]
  },
  {
   "cell_type": "code",
   "execution_count": null,
   "metadata": {
    "collapsed": true
   },
   "outputs": [],
   "source": []
  }
 ],
 "metadata": {
  "kernelspec": {
   "display_name": "Python 2",
   "language": "python",
   "name": "python2"
  },
  "language_info": {
   "codemirror_mode": {
    "name": "ipython",
    "version": 2
   },
   "file_extension": ".py",
   "mimetype": "text/x-python",
   "name": "python",
   "nbconvert_exporter": "python",
   "pygments_lexer": "ipython2",
   "version": "2.7.13"
  }
 },
 "nbformat": 4,
 "nbformat_minor": 2
}
