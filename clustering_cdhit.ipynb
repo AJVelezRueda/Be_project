{
 "cells": [
  {
   "cell_type": "code",
   "execution_count": 23,
   "metadata": {
    "collapsed": false
   },
   "outputs": [
    {
     "name": "stdout",
     "output_type": "stream",
     "text": [
      "Fin del proceso\n"
     ]
    }
   ],
   "source": [
    "#############################################################################################################\n",
    "##-- This script clusters the ensembles --##\n",
    "##- IMPORTANT DATA INFO:this script takes '.txt' files with fasta sequences of an ensemble of proteins\n",
    "##- IMPORTANT DATA INFO: Installing cd-hit is needed     --##\n",
    "#############################################################################################################\n",
    "\n",
    "###########################\n",
    "#- importing directories -#\n",
    "###########################\n",
    "import os\n",
    "import glob\n",
    "import subprocess \n",
    "\n",
    "###############################\n",
    "#- searching the fasta files -#\n",
    "###############################\n",
    "path = '/home/anajulia/Be_project/Data/fastasequences'\n",
    "os.chdir(path)\n",
    "\n",
    "#######################\n",
    "#- listing the files -#\n",
    "#######################\n",
    "dirs = glob.glob('*.txt')\n",
    "\n",
    "\n",
    "for i in dirs:\n",
    "    arch_fst = i.split('/')[-1]\n",
    "    cmd2 = 'clust100_'+ i.split('/')[-1]\n",
    "    subprocess.call(['cd-hit','-i', arch_fst, '-o', cmd2,'-c','1'])\n",
    "print('Fin del proceso')"
   ]
  },
  {
   "cell_type": "code",
   "execution_count": 38,
   "metadata": {
    "collapsed": true
   },
   "outputs": [],
   "source": [
    "#################################################\n",
    "##-- Generating the  report file of clusters --##\n",
    "#################################################\n",
    "clusters = glob.glob('*.txt.clstr')"
   ]
  },
  {
   "cell_type": "code",
   "execution_count": 48,
   "metadata": {
    "collapsed": false
   },
   "outputs": [
    {
     "name": "stdout",
     "output_type": "stream",
     "text": [
      "PED2AAB 1 cluster was found\n",
      ">Cluster 0\n",
      "0\t137aa, >PED2AAB_1_A... *\n",
      "1\t137aa, >PED2AAB_1_B... at 100.00%\n",
      "\n",
      "PED3AAB 1 cluster was found\n",
      ">Cluster 0\n",
      "0\t121aa, >PED3AAB_1_A... *\n",
      "1\t88aa, >PED3AAB_1_C... at 100.00%\n",
      "2\t84aa, >PED3AAB_1_B... at 100.00%\n",
      "3\t84aa, >PED3AAB_1_D... at 100.00%\n",
      "\n",
      "PED1AAB 1 cluster was found\n",
      ">Cluster 0\n",
      "0\t104aa, >PED1AAB_1_A... *\n",
      "1\t104aa, >PED1AAB_1_B... at 100.00%\n",
      "\n",
      "PED3AAD 1 cluster was found\n",
      ">Cluster 0\n",
      "0\t71aa, >PED3AAD_1_A... *\n",
      "\n",
      "PED1AAD 1 cluster was found\n",
      ">Cluster 0\n",
      "0\t134aa, >PED1AAD_1_A... *\n",
      "\n",
      "PED4AAA_1_C\n",
      "PED4AAA_1_B\n",
      "PED4AAA_1_A\n",
      "PED4AAA 3 clusters were found\n",
      ">Cluster 0\n",
      "0\t319aa, >PED4AAA_1_C... *\n",
      ">Cluster 1\n",
      "0\t230aa, >PED4AAA_1_B... *\n",
      "1\t230aa, >PED4AAA_1_D... at 100.00%\n",
      ">Cluster 2\n",
      "0\t46aa, >PED4AAA_1_A... *\n",
      "\n",
      "aa, >O43806\n",
      "PED2AAA_1_A\n",
      "PED2AAA 2 clusters were found\n",
      ">Cluster 0\n",
      "0\t69aa, >O43806... *\n",
      ">Cluster 1\n",
      "0\t69aa, >PED2AAA_1_A... *\n",
      "\n",
      "PED3AAA_1_C\n",
      "PED3AAA_1_B\n",
      "PED3AAA_1_A\n",
      "PED3AAA 3 clusters were found\n",
      ">Cluster 0\n",
      "0\t319aa, >PED3AAA_1_C... *\n",
      ">Cluster 1\n",
      "0\t230aa, >PED3AAA_1_B... *\n",
      "1\t230aa, >PED3AAA_1_D... at 100.00%\n",
      ">Cluster 2\n",
      "0\t46aa, >PED3AAA_1_A... *\n",
      "\n",
      "PED1AAA_1_A\n",
      "aa, >P38634\n",
      "PED1AAA 2 clusters were found\n",
      ">Cluster 0\n",
      "0\t92aa, >PED1AAA_1_A... *\n",
      "1\t92aa, >PED1AAA_2_A... at 100.00%\n",
      "2\t92aa, >PED1AAA_3_A... at 100.00%\n",
      ">Cluster 1\n",
      "0\t90aa, >P38634... *\n",
      "\n",
      "PED2AAD 1 cluster was found\n",
      ">Cluster 0\n",
      "0\t145aa, >PED2AAD_1_A... *\n",
      "\n"
     ]
    }
   ],
   "source": [
    "for i in clusters:\n",
    "    with open(i,'r') as miarch:\n",
    "        data = miarch.read()\n",
    "        num_clust = data.count('>Cluster')\n",
    "        if num_clust == 1:\n",
    "            print(i.split('_')[1]+ ' '+ str(num_clust) +' cluster was found\\n'+ data)\n",
    "        else:\n",
    "            repr_secs = [n for n in range(0,len(data)) if data[n] == '*']\n",
    "            for j in repr_secs:\n",
    "                print(data[(j-(8+len(i.split('_')[1]))):j-4])\n",
    "            print(i.split('_')[1]+ ' '+ str(num_clust) +' clusters were found\\n'+ data)"
   ]
  },
  {
   "cell_type": "code",
   "execution_count": null,
   "metadata": {
    "collapsed": true
   },
   "outputs": [],
   "source": []
  },
  {
   "cell_type": "code",
   "execution_count": null,
   "metadata": {
    "collapsed": true
   },
   "outputs": [],
   "source": []
  },
  {
   "cell_type": "code",
   "execution_count": null,
   "metadata": {
    "collapsed": true
   },
   "outputs": [],
   "source": []
  }
 ],
 "metadata": {
  "kernelspec": {
   "display_name": "Python 2",
   "language": "python",
   "name": "python2"
  },
  "language_info": {
   "codemirror_mode": {
    "name": "ipython",
    "version": 2
   },
   "file_extension": ".py",
   "mimetype": "text/x-python",
   "name": "python",
   "nbconvert_exporter": "python",
   "pygments_lexer": "ipython2",
   "version": "2.7.13"
  }
 },
 "nbformat": 4,
 "nbformat_minor": 2
}
