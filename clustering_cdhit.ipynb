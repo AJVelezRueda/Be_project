{
 "cells": [
  {
   "cell_type": "code",
   "execution_count": 23,
   "metadata": {
    "collapsed": false
   },
   "outputs": [
    {
     "name": "stdout",
     "output_type": "stream",
     "text": [
      "Fin del proceso\n"
     ]
    }
   ],
   "source": [
    "#############################################################################################################\n",
    "##-- This script clusters the ensembles --##\n",
    "##- IMPORTANT DATA INFO:this script takes '.txt' files with fasta sequences of an ensemble of proteins\n",
    "##- IMPORTANT DATA INFO: Installing cd-hit is needed     --##\n",
    "#############################################################################################################\n",
    "\n",
    "###########################\n",
    "#- importing directories -#\n",
    "###########################\n",
    "import os\n",
    "import glob\n",
    "import subprocess \n",
    "\n",
    "###############################\n",
    "#- searching the fasta files -#\n",
    "###############################\n",
    "path = '/home/anajulia/Be_project/Data/fastasequences'\n",
    "os.chdir(path)\n",
    "\n",
    "#######################\n",
    "#- listing the files -#\n",
    "#######################\n",
    "dirs = glob.glob('*.txt')\n",
    "\n",
    "\n",
    "for i in dirs:\n",
    "    arch_fst = i.split('/')[-1]\n",
    "    cmd2 = 'clust100_'+ i.split('/')[-1]\n",
    "    subprocess.call(['cd-hit','-i', arch_fst, '-o', cmd2,'-c','1'])\n",
    "print('Fin del proceso')"
   ]
  },
  {
   "cell_type": "code",
   "execution_count": 38,
   "metadata": {
    "collapsed": true
   },
   "outputs": [],
   "source": [
    "#################################################\n",
    "##-- Generating the  report file of clusters --##\n",
    "#################################################\n",
    "clusters = glob.glob('*.txt.clstr')"
   ]
  },
  {
   "cell_type": "code",
   "execution_count": 56,
   "metadata": {
    "collapsed": false
   },
   "outputs": [
    {
     "name": "stdout",
     "output_type": "stream",
     "text": [
      "Directory clustrs_reports Created \n"
     ]
    }
   ],
   "source": [
    "######################################\n",
    "##-- Creating the a new directory --##\n",
    "######################################\n",
    "dirName = 'clustrs_reports'\n",
    "try:\n",
    "    # Create target Directory\n",
    "    os.mkdir(dirName)\n",
    "    print(\"Directory \" + dirName + \" Created \") \n",
    "except FileExistsError:\n",
    "    print(\"Directory \" + dirName +  \" already exists\")"
   ]
  },
  {
   "cell_type": "code",
   "execution_count": 71,
   "metadata": {
    "collapsed": false
   },
   "outputs": [],
   "source": [
    "for i in clusters:\n",
    "    pedID = i.split('_')[1]\n",
    "    with open(i,'r') as miarch:\n",
    "        data = miarch.read()\n",
    "        num_clust = data.count('>Cluster')\n",
    "        if num_clust == 1:\n",
    "            \n",
    "            out = pedID + ' '+ str(num_clust) +' cluster was found\\n'+ data\n",
    "        else:\n",
    "            repr_secs = [n for n in range(0,len(data)) if data[n] == '*']\n",
    "            secs_ref = []\n",
    "            for j in repr_secs:\n",
    "                name = data[(j-(8+len(pedID))):j-4]\n",
    "                if 'PED' not in name:\n",
    "                    pass\n",
    "                else:\n",
    "                    secs_ref.append(name)\n",
    "            out = pedID +' '+ str(num_clust) +' clusters were found\\n'+ 'Clusters seqRef ' + str(secs_ref)[1:-1].replace(\"'\",\"\") +'\\n'+ data\n",
    "    with open(path + '/clustrs_reports/'+ pedID + 'clstr_report','a') as rep:\n",
    "        rep.write(out)"
   ]
  },
  {
   "cell_type": "code",
   "execution_count": null,
   "metadata": {
    "collapsed": true
   },
   "outputs": [],
   "source": []
  }
 ],
 "metadata": {
  "kernelspec": {
   "display_name": "Python 2",
   "language": "python",
   "name": "python2"
  },
  "language_info": {
   "codemirror_mode": {
    "name": "ipython",
    "version": 2
   },
   "file_extension": ".py",
   "mimetype": "text/x-python",
   "name": "python",
   "nbconvert_exporter": "python",
   "pygments_lexer": "ipython2",
   "version": "2.7.13"
  }
 },
 "nbformat": 4,
 "nbformat_minor": 2
}
