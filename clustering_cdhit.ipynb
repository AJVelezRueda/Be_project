{
 "cells": [
  {
   "cell_type": "code",
   "execution_count": 13,
   "metadata": {
    "collapsed": false
   },
   "outputs": [
    {
     "name": "stdout",
     "output_type": "stream",
     "text": [
      "Fin del proceso\n"
     ]
    }
   ],
   "source": [
    "############################################\n",
    "##-- This script clusters the ensembles --##\n",
    "##-     Installing cd-hit is needed     --##\n",
    "############################################\n",
    "\n",
    "###########################\n",
    "#- importing directories -#\n",
    "###########################\n",
    "import os\n",
    "import glob\n",
    "import subprocess \n",
    "\n",
    "###############################\n",
    "#- searching the fasta files -#\n",
    "###############################\n",
    "path = '/home/anajulia/Be_project/Data/fastasequences'\n",
    "os.chdir(path)\n",
    "\n",
    "#######################\n",
    "#- listing the files -#\n",
    "#######################\n",
    "dirs = glob.glob('*.txt')\n",
    "\n",
    "\n",
    "for i in dirs:\n",
    "    arch_fst = i.split('/')[-1]\n",
    "    cmd2 = 'clust100_'+ i.split('/')[-1]\n",
    "    subprocess.call(['cd-hit','-i', arch_fst, '-o', cmd2,'-c','1'])\n",
    "print('Fin del proceso')"
   ]
  },
  {
   "cell_type": "code",
   "execution_count": null,
   "metadata": {
    "collapsed": true
   },
   "outputs": [],
   "source": [
    "############################################\n",
    "##-- Generating the  --##\n",
    "############################################"
   ]
  }
 ],
 "metadata": {
  "kernelspec": {
   "display_name": "Python 2",
   "language": "python",
   "name": "python2"
  },
  "language_info": {
   "codemirror_mode": {
    "name": "ipython",
    "version": 2
   },
   "file_extension": ".py",
   "mimetype": "text/x-python",
   "name": "python",
   "nbconvert_exporter": "python",
   "pygments_lexer": "ipython2",
   "version": "2.7.13"
  }
 },
 "nbformat": 4,
 "nbformat_minor": 2
}
