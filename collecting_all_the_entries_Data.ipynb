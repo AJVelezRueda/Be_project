{
 "cells": [
  {
   "cell_type": "code",
   "execution_count": 12,
   "metadata": {
    "collapsed": true
   },
   "outputs": [],
   "source": [
    "###IMPRTANT INFORMATION: the user has to change the main path in order to obtein all the paths related to each entry\n",
    "### This script must be used before running the \"Rg_qualification_report\" and the \"PED_full_report_HTML\""
   ]
  },
  {
   "cell_type": "code",
   "execution_count": 1,
   "metadata": {
    "collapsed": true
   },
   "outputs": [],
   "source": [
    "###########################\n",
    "##- Importing libraries -##\n",
    "###########################\n",
    "import os,glob\n",
    "import pandas as pd"
   ]
  },
  {
   "cell_type": "code",
   "execution_count": 2,
   "metadata": {
    "collapsed": true
   },
   "outputs": [],
   "source": [
    "#################################\n",
    "#- Setting path to main folder -#\n",
    "#################################\n",
    "path_main = '/home/anajulia/Be_project/Data'\n",
    "path_data = path_main + '/PED-DB3'\n",
    "\n",
    "#######################\n",
    "#- Searching folders -#\n",
    "#######################\n",
    "list_data_dir = glob.glob(path_data +'/*')\n",
    "\n",
    "PEDs = []\n",
    "list_PEDs_dir = []\n",
    "for i in list_data_dir:\n",
    "    if i.split('/')[-1].startswith('PED'):\n",
    "        if 'json' not in i:\n",
    "            list_PEDs_dir.append(i)\n",
    "            PEDs.append(i.split('/')[-1])"
   ]
  },
  {
   "cell_type": "code",
   "execution_count": 3,
   "metadata": {
    "collapsed": false
   },
   "outputs": [],
   "source": [
    "#######################\n",
    "#- Searching files   -#\n",
    "#######################\n",
    "\n",
    "PEDsdic = {}\n",
    "for i in PEDs:\n",
    "    #building paths to folders\n",
    "    path_folder = path_data + '/' + i\n",
    "    path_seqs = path_folder + '/fastasequences/'\n",
    "    path_end_to_end = path_folder + '/End_to_End/'\n",
    "    path_second_struc = path_folder + '/Secondary_structure/'\n",
    "    path_saxs_data = path_folder + '/SAXS-' + i\n",
    "    path_Rg_data = path_folder + '/Rg'\n",
    "    #listing files\n",
    "    list_seqplots = glob.glob(path_seqs + '*')\n",
    "    list_seqplots = [x for x in list_seqplots if '.plot' in x]\n",
    "    fasta_seqs = glob.glob(path_seqs + '*_all_sequence.txt')\n",
    "    list_endToend_plots = glob.glob(path_end_to_end + '*')\n",
    "    list_endToend_plots = [x for x in list_endToend_plots if '_plot.tiff' in x]\n",
    "    list_secondStruc_plots =  glob.glob(path_second_struc+'*')\n",
    "    list_secondStruc_plots = [x for x in list_secondStruc_plots if '_plot.tiff' in x]\n",
    "    list_gralPlots = glob.glob(path_folder + '/*.jpg')\n",
    "    list_saxs_data = glob.glob(path_saxs_data +'/*.png')\n",
    "    list_rg_data = glob.glob(path_Rg_data + '/*')\n",
    "    \n",
    "    PEDsdic[i] = [\", \".join(list_seqplots),\", \".join(fasta_seqs),\", \".join(list_endToend_plots),\", \".join(list_secondStruc_plots),\", \".join(list_gralPlots),\", \".join(list_saxs_data),\", \".join(list_rg_data)]"
   ]
  },
  {
   "cell_type": "code",
   "execution_count": 4,
   "metadata": {
    "collapsed": false
   },
   "outputs": [],
   "source": [
    "PED_paths_df = pd.DataFrame.from_dict(PEDsdic)"
   ]
  },
  {
   "cell_type": "code",
   "execution_count": 6,
   "metadata": {
    "collapsed": false
   },
   "outputs": [],
   "source": [
    "PED_paths_df.to_csv(path_main + '/general_paths_to_data', sep='\\t',index=False)"
   ]
  },
  {
   "cell_type": "code",
   "execution_count": null,
   "metadata": {
    "collapsed": true
   },
   "outputs": [],
   "source": []
  }
 ],
 "metadata": {
  "kernelspec": {
   "display_name": "Python 2",
   "language": "python",
   "name": "python2"
  },
  "language_info": {
   "codemirror_mode": {
    "name": "ipython",
    "version": 2
   },
   "file_extension": ".py",
   "mimetype": "text/x-python",
   "name": "python",
   "nbconvert_exporter": "python",
   "pygments_lexer": "ipython2",
   "version": "2.7.13"
  }
 },
 "nbformat": 4,
 "nbformat_minor": 2
}
