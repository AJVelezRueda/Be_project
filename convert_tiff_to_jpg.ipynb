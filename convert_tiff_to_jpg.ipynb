{
 "cells": [
  {
   "cell_type": "markdown",
   "metadata": {},
   "source": [
    "Adappted code from:\n",
    "https://github.com/kckaiwei/tifftojpeg/blob/master/main.py"
   ]
  },
  {
   "cell_type": "code",
   "execution_count": 1,
   "metadata": {
    "collapsed": true
   },
   "outputs": [],
   "source": [
    "############################\n",
    "##- Installing libraries -##\n",
    "#--------- Python 3 -------#\n",
    "############################\n",
    "try:\n",
    "    from pip import main as pipmain\n",
    "except:\n",
    "    from pip._internal import main as pipmain\n",
    "\n",
    "def install(package):\n",
    "    pipmain(['install', \"--upgrade\", \"pip\"])\n",
    "    if hasattr(pip, 'main'):\n",
    "        pip.main(['install', package])\n",
    "    else:\n",
    "        try:\n",
    "            pip._internal.main(['install', package])\n",
    "        except:\n",
    "            print(pip._internal.main(['install', package]))"
   ]
  },
  {
   "cell_type": "code",
   "execution_count": 5,
   "metadata": {
    "collapsed": true
   },
   "outputs": [],
   "source": [
    "######################################\n",
    "####- Checking if seaborn exists -####\n",
    "try:\n",
    "    import seaborn\n",
    "except:\n",
    "    ##########################\n",
    "    ##- Installing seaborn -##\n",
    "    ##########################\n",
    "    install('Image')"
   ]
  },
  {
   "cell_type": "code",
   "execution_count": 4,
   "metadata": {
    "collapsed": true
   },
   "outputs": [],
   "source": []
  },
  {
   "cell_type": "code",
   "execution_count": 43,
   "metadata": {
    "collapsed": true
   },
   "outputs": [],
   "source": [
    "def conversor(path):\n",
    "    ###############################\n",
    "    ####- importing libraries -####\n",
    "    from PIL import Image\n",
    "    import glob,os\n",
    "    try:\n",
    "        os.chdir(path)\n",
    "        for name in glob.glob('*.tif'):\n",
    "            im = Image.open(name)\n",
    "            name = str(name).rstrip(\".tif\")\n",
    "            im.save(name + '.jpg', 'JPEG')\n",
    "\n",
    "        for name in glob.glob('*.tiff'):\n",
    "            im = Image.open(name)\n",
    "            name = str(name).rstrip(\".tiff\")\n",
    "            im.save(name + '.jpg', 'JPEG')\n",
    "        print \"Conversions from tif/tiff to jpg completed!\"\n",
    "    except:\n",
    "        print \"Sorry something went wrong!\"\n",
    "        pass"
   ]
  },
  {
   "cell_type": "code",
   "execution_count": 67,
   "metadata": {
    "collapsed": false
   },
   "outputs": [],
   "source": [
    "###############################\n",
    "####- Changing directory -####\n",
    "path = '/home/anajulia/Be_project/Data/PED-DB3/PED1AAA/End_to_End'"
   ]
  },
  {
   "cell_type": "code",
   "execution_count": 68,
   "metadata": {
    "collapsed": false
   },
   "outputs": [
    {
     "name": "stdout",
     "output_type": "stream",
     "text": [
      "Conversions from tif/tiff to jpg completed!\n"
     ]
    }
   ],
   "source": [
    "conversor(path)"
   ]
  },
  {
   "cell_type": "code",
   "execution_count": null,
   "metadata": {
    "collapsed": true
   },
   "outputs": [],
   "source": []
  }
 ],
 "metadata": {
  "kernelspec": {
   "display_name": "Python 2",
   "language": "python",
   "name": "python2"
  },
  "language_info": {
   "codemirror_mode": {
    "name": "ipython",
    "version": 2
   },
   "file_extension": ".py",
   "mimetype": "text/x-python",
   "name": "python",
   "nbconvert_exporter": "python",
   "pygments_lexer": "ipython2",
   "version": "2.7.13"
  }
 },
 "nbformat": 4,
 "nbformat_minor": 2
}
