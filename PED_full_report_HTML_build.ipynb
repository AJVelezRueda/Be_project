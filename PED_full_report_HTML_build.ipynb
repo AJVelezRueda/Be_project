{
 "cells": [
  {
   "cell_type": "code",
   "execution_count": null,
   "metadata": {
    "collapsed": true
   },
   "outputs": [],
   "source": [
    "############################################################################################################\n",
    "###- Important INFO: the folder must follow the structure: ~/Be_project/Data/PED-DB3/PED1AAA -#\n",
    "##- IMPORTANT: you must have a folder with called data in whith a folder with folder of each entry inside -# "
   ]
  },
  {
   "cell_type": "markdown",
   "metadata": {},
   "source": [
    "#################################\n",
    "##- FOR Installing libraries -##\n",
    "#------ Using  Python 3 -------#\n",
    "###############################################\n",
    "#-   Libraries could be installed manually   -#\n",
    "#- In which case you don't need to run this - #\n",
    "###############################################\n",
    "\n",
    "try:\n",
    "    from pip import main as pipmain\n",
    "except:\n",
    "    from pip._internal import main as pipmain\n",
    "\n",
    "def install(package):\n",
    "    pipmain(['install', \"--upgrade\", \"pip\"])\n",
    "    if hasattr(pip, 'main'):\n",
    "        pip.main(['install', package])\n",
    "    else:\n",
    "        try:\n",
    "            pip._internal.main(['install', package])\n",
    "        except:\n",
    "            print(pip._internal.main(['install', package]))\n",
    "\n",
    "###########################\n",
    "##- Installing Biopython-##\n",
    "###########################\n",
    "###Uncomment these lines in case you need to install PDF creator libraries\n",
    "#install('pdfkit')\n",
    "#install('reportlab')"
   ]
  },
  {
   "cell_type": "code",
   "execution_count": 11,
   "metadata": {
    "collapsed": false
   },
   "outputs": [],
   "source": [
    "### Information in dic will be in the following order: pairwise aligments plots, end to and plots, secondary structure plots and Rgdist plots, saxs plot\n",
    "#PEDsdic"
   ]
  },
  {
   "cell_type": "code",
   "execution_count": 1,
   "metadata": {
    "collapsed": false
   },
   "outputs": [],
   "source": [
    "#########################\n",
    "#- importing libraries -#\n",
    "import pandas as pd\n",
    "import glob,os\n",
    "\n",
    "##################\n",
    "#- seting paths -#\n",
    "path_main = '/home/anajulia/Be_project/Data'\n",
    "path_data = path_main + '/PED-DB3'"
   ]
  },
  {
   "cell_type": "code",
   "execution_count": 2,
   "metadata": {
    "collapsed": true
   },
   "outputs": [],
   "source": [
    "####################\n",
    "#- setting paths -#\n",
    "df = pd.read_csv(path_main + '/general_paths_to_data', sep='\\t')\n",
    "PEDs = list(df)"
   ]
  },
  {
   "cell_type": "code",
   "execution_count": 3,
   "metadata": {
    "collapsed": false
   },
   "outputs": [
    {
     "name": "stdout",
     "output_type": "stream",
     "text": [
      "Directory reports already exists\n"
     ]
    }
   ],
   "source": [
    "######################################\n",
    "##-- Creating the a new directory --##\n",
    "######################################\n",
    "dirName = 'reports'\n",
    "try:\n",
    "    # Create target Directory\n",
    "    os.mkdir(path_data + '/' + dirName)\n",
    "    print(\"Directory \" + dirName + \" Created \") \n",
    "except:\n",
    "    print(\"Directory \" + dirName +  \" already exists\")"
   ]
  },
  {
   "cell_type": "code",
   "execution_count": 43,
   "metadata": {
    "collapsed": false,
    "scrolled": true
   },
   "outputs": [],
   "source": [
    "#############################################\n",
    "#- Rewriting the aligments for the reports -#\n",
    "#############################################\n",
    "for j in PEDs:\n",
    "    path_plots = path_data + '/' + j + '/fastasequences'\n",
    "    os.chdir(path_plots)\n",
    "    listita = glob.glob('*.plot')\n",
    "    for i in listita:\n",
    "        if len(listita) != 0:\n",
    "            try:\n",
    "                data = open(i,'r').readlines()\n",
    "                with open(path_main + '/PED-DB3/reports/' + j + '_alig_sum.txt','a') as mierda:\n",
    "                    mierda.write('pairwise aligment ' + i.split('/')[-1].split('_')[0] +'\\n\\n')\n",
    "                    ########## para dividirlo por lineas #####################\n",
    "                    k = 0\n",
    "                    for x in range(0,len(data[0])/250):\n",
    "                        mierda.write(str(k+1)+'\\n')\n",
    "                        mierda.write(str(data[0])[k:k+250]+'\\n')\n",
    "                        mierda.write(str(data[1])[k:k+250]+'\\n')\n",
    "                        mierda.write(str(data[2])[k:k+250]+'\\n')\n",
    "                        mierda.write(str(data[3])+'\\n\\n')\n",
    "                        k = k + 250\n",
    "            except:\n",
    "                print('Sorry, but the directory:' + i + \" can't be oppened\" )"
   ]
  },
  {
   "cell_type": "code",
   "execution_count": 40,
   "metadata": {
    "collapsed": false
   },
   "outputs": [],
   "source": [
    "############################\n",
    "##- picking up the files -##\n",
    "for i in PEDs:\n",
    "    paths = df[i].tolist()[2:]\n",
    "    report_plots = glob.glob(path_main + '/PED-DB3/reports/*'+ i +'_alig_sum.txt')\n",
    "    end_to_end = paths[0]"
   ]
  },
  {
   "cell_type": "code",
   "execution_count": null,
   "metadata": {
    "collapsed": true
   },
   "outputs": [],
   "source": []
  },
  {
   "cell_type": "code",
   "execution_count": null,
   "metadata": {
    "collapsed": true
   },
   "outputs": [],
   "source": []
  }
 ],
 "metadata": {
  "kernelspec": {
   "display_name": "Python 2",
   "language": "python",
   "name": "python2"
  },
  "language_info": {
   "codemirror_mode": {
    "name": "ipython",
    "version": 2
   },
   "file_extension": ".py",
   "mimetype": "text/x-python",
   "name": "python",
   "nbconvert_exporter": "python",
   "pygments_lexer": "ipython2",
   "version": "2.7.13"
  }
 },
 "nbformat": 4,
 "nbformat_minor": 2
}
