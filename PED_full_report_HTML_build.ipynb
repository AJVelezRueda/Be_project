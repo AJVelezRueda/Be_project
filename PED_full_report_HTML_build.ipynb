{
 "cells": [
  {
   "cell_type": "code",
   "execution_count": null,
   "metadata": {
    "collapsed": true
   },
   "outputs": [],
   "source": [
    "############################################################################################################\n",
    "###- Important INFO: the folder must follow the structure: ~/Be_project/Data/PED-DB3/PED1AAA -#\n",
    "##- IMPORTANT: you must have a folder with called data in whith a folder with folder of each entry inside -# "
   ]
  },
  {
   "cell_type": "markdown",
   "metadata": {},
   "source": [
    "#################################\n",
    "##- FOR Installing libraries -##\n",
    "#------ Using  Python 3 -------#\n",
    "###############################################\n",
    "#-   Libraries could be installed manually   -#\n",
    "#- In which case you don't need to run this - #\n",
    "###############################################\n",
    "\n",
    "try:\n",
    "    from pip import main as pipmain\n",
    "except:\n",
    "    from pip._internal import main as pipmain\n",
    "\n",
    "def install(package):\n",
    "    pipmain(['install', \"--upgrade\", \"pip\"])\n",
    "    if hasattr(pip, 'main'):\n",
    "        pip.main(['install', package])\n",
    "    else:\n",
    "        try:\n",
    "            pip._internal.main(['install', package])\n",
    "        except:\n",
    "            print(pip._internal.main(['install', package]))\n",
    "\n",
    "###########################\n",
    "##- Installing Biopython-##\n",
    "###########################\n",
    "###Uncomment these lines in case you need to install PDF creator libraries\n",
    "#install('pdfkit')\n",
    "#install('reportlab')"
   ]
  },
  {
   "cell_type": "code",
   "execution_count": null,
   "metadata": {
    "collapsed": false
   },
   "outputs": [],
   "source": []
  },
  {
   "cell_type": "code",
   "execution_count": 11,
   "metadata": {
    "collapsed": false
   },
   "outputs": [],
   "source": [
    "### Information in dic will be in the following order: pairwise aligments plots, end to and plots, secondary structure plots and Rgdist plots, saxs plot\n",
    "#PEDsdic"
   ]
  },
  {
   "cell_type": "code",
   "execution_count": 26,
   "metadata": {
    "collapsed": false
   },
   "outputs": [],
   "source": [
    "#PEDsdic"
   ]
  },
  {
   "cell_type": "code",
   "execution_count": 21,
   "metadata": {
    "collapsed": false
   },
   "outputs": [],
   "source": [
    "#############################\n",
    "#- Rewriting the aligments -#\n",
    "#############################\n",
    "for x in PEDs:\n",
    "    listita = PEDsdic[x][0]\n",
    "    for i in listita:\n",
    "        if len(listita) != 0:\n",
    "            with open(i,'r') as miarch:\n",
    "                data = miarch.readlines()\n",
    "                with open(path_main + '/PED-DB3/reports/' + i.split('/')[-1].split('_')[0] + '_alig_sum.txt','a') as miresultado:\n",
    "                    miresultado.write('pairwise aligment ' + i.split('/')[-1].split('_')[0] +'\\n\\n')\n",
    "                    k = 0\n",
    "                    for j in range(0,len(data[0])/250):\n",
    "                        miresultado.write(str(k+1)+'\\n')\n",
    "                        miresultado.write(data[0][k:k+250]+'\\n')\n",
    "                        miresultado.write(data[1][k:k+250]+'\\n')\n",
    "                        miresultado.write(data[2][k:k+250]+'\\n\\n')\n",
    "                        k = k+250"
   ]
  },
  {
   "cell_type": "code",
   "execution_count": null,
   "metadata": {
    "collapsed": true
   },
   "outputs": [],
   "source": []
  }
 ],
 "metadata": {
  "kernelspec": {
   "display_name": "Python 2",
   "language": "python",
   "name": "python2"
  },
  "language_info": {
   "codemirror_mode": {
    "name": "ipython",
    "version": 2
   },
   "file_extension": ".py",
   "mimetype": "text/x-python",
   "name": "python",
   "nbconvert_exporter": "python",
   "pygments_lexer": "ipython2",
   "version": "2.7.13"
  }
 },
 "nbformat": 4,
 "nbformat_minor": 2
}
